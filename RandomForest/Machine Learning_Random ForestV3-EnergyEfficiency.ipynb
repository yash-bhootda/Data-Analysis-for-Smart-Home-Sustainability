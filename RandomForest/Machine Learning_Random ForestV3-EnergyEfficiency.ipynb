{
 "cells": [
  {
   "cell_type": "code",
   "execution_count": 1,
   "metadata": {},
   "outputs": [],
   "source": [
    "# Title:     SmartHome Dataset\n",
    "# Authors:   Aline J\n",
    "# Date:      01/06/2020\n",
    "# Goal:      Analyze and predict energy use efficiency \n",
    "#            in a smarthouse during a year under variable weather conditions.\n",
    "\n",
    "# Questions: \n",
    "# 1) What are the variables that control generated energy? \n",
    "#Temperature and humidity explain 76% of the variability\n",
    "# 2) What are the variables that control used energy? \n",
    "# Home office, visibility, and living room are the rooms where more energy is used. \n",
    "# 75.89% of the variability on the data is explained by those variables in the dataset.\n",
    "# 3) What are the variables that control energy efficiency?\n",
    "\n",
    "# Method. Unsupervised Machine learning Method, specifically random forest regression analysis.\n",
    "# Results: Used Monthly CleanData\n",
    "#         Several attempts to run the analysis were done at differen frequencies. \n",
    "#         Only Monthly frequency data resulted the highest accuracy (76%) vs Minute data (0.01%).  \n",
    "#         The minimum random state of 50, was enough to explain the variability in the dataset.  \n",
    "#         The same accuracy was yield when running random state of 1000.\n",
    "\n"
   ]
  },
  {
   "cell_type": "code",
   "execution_count": 2,
   "metadata": {},
   "outputs": [
    {
     "name": "stdout",
     "output_type": "stream",
     "text": [
      "Requirement already up-to-date: sklearn in c:\\programdata\\anaconda3\\lib\\site-packages (0.0)\n",
      "Requirement already satisfied, skipping upgrade: scikit-learn in c:\\programdata\\anaconda3\\lib\\site-packages (from sklearn) (0.21.2)\n",
      "Requirement already satisfied, skipping upgrade: scipy>=0.17.0 in c:\\programdata\\anaconda3\\lib\\site-packages (from scikit-learn->sklearn) (1.2.1)\n",
      "Requirement already satisfied, skipping upgrade: numpy>=1.11.0 in c:\\programdata\\anaconda3\\lib\\site-packages (from scikit-learn->sklearn) (1.16.4)\n",
      "Requirement already satisfied, skipping upgrade: joblib>=0.11 in c:\\programdata\\anaconda3\\lib\\site-packages (from scikit-learn->sklearn) (0.13.2)\n"
     ]
    }
   ],
   "source": [
    "### Begins Here ####\n",
    "# 1. Import dependencies\n",
    "# Update sklearn to prevent version mismatches\n",
    "!pip install sklearn --upgrade"
   ]
  },
  {
   "cell_type": "code",
   "execution_count": 3,
   "metadata": {},
   "outputs": [
    {
     "name": "stdout",
     "output_type": "stream",
     "text": [
      "Requirement already satisfied: joblib in c:\\programdata\\anaconda3\\lib\\site-packages (0.13.2)\n"
     ]
    }
   ],
   "source": [
    "# install joblib. This will be used to save your model. \n",
    "# Restart your kernel after installing \n",
    "!pip install joblib"
   ]
  },
  {
   "cell_type": "code",
   "execution_count": 4,
   "metadata": {},
   "outputs": [],
   "source": [
    "# Other dependencies\n",
    "from mpl_toolkits.mplot3d import Axes3D\n",
    "from sklearn.preprocessing import StandardScaler\n",
    "import matplotlib.pyplot as plt # plotting\n",
    "import numpy as np # linear algebra\n",
    "import os # accessing directory structure\n",
    "import pandas as pd # data processing, CSV file I/O (e.g. pd.read_csv)\n",
    "from scipy import stats\n",
    "import string as string\n",
    "import warnings\n",
    "warnings.filterwarnings('ignore')"
   ]
  },
  {
   "cell_type": "code",
   "execution_count": 5,
   "metadata": {},
   "outputs": [
    {
     "name": "stdout",
     "output_type": "stream",
     "text": [
      "There are 12 rows and 24 columns\n"
     ]
    }
   ],
   "source": [
    "# 2. Import Raw data file into a data frame\n",
    "csv_path = \"Data/CleanData_per_month.csv\"\n",
    "df = pd.read_csv(csv_path,   parse_dates=True)\n",
    "nRow, nCol = df.shape\n",
    "print(f'There are {nRow} rows and {nCol} columns')\n"
   ]
  },
  {
   "cell_type": "code",
   "execution_count": 6,
   "metadata": {},
   "outputs": [
    {
     "data": {
      "text/html": [
       "<div>\n",
       "<style scoped>\n",
       "    .dataframe tbody tr th:only-of-type {\n",
       "        vertical-align: middle;\n",
       "    }\n",
       "\n",
       "    .dataframe tbody tr th {\n",
       "        vertical-align: top;\n",
       "    }\n",
       "\n",
       "    .dataframe thead th {\n",
       "        text-align: right;\n",
       "    }\n",
       "</style>\n",
       "<table border=\"1\" class=\"dataframe\">\n",
       "  <thead>\n",
       "    <tr style=\"text-align: right;\">\n",
       "      <th></th>\n",
       "      <th>Unnamed: 0</th>\n",
       "      <th>gen</th>\n",
       "      <th>use</th>\n",
       "      <th>House overall</th>\n",
       "      <th>Furnace</th>\n",
       "      <th>Home office</th>\n",
       "      <th>Living room</th>\n",
       "      <th>Wine cellar</th>\n",
       "      <th>Garage door</th>\n",
       "      <th>Kitchen</th>\n",
       "      <th>...</th>\n",
       "      <th>Dishwasher</th>\n",
       "      <th>temperature</th>\n",
       "      <th>humidity</th>\n",
       "      <th>visibility</th>\n",
       "      <th>apparentTemperature</th>\n",
       "      <th>pressure</th>\n",
       "      <th>windSpeed</th>\n",
       "      <th>windBearing</th>\n",
       "      <th>precipIntensity</th>\n",
       "      <th>dewPoint</th>\n",
       "    </tr>\n",
       "  </thead>\n",
       "  <tbody>\n",
       "    <tr>\n",
       "      <th>0</th>\n",
       "      <td>2016-01-31</td>\n",
       "      <td>2596.565467</td>\n",
       "      <td>46256.153317</td>\n",
       "      <td>46256.153317</td>\n",
       "      <td>20272.447383</td>\n",
       "      <td>4043.940117</td>\n",
       "      <td>1921.156633</td>\n",
       "      <td>840.762533</td>\n",
       "      <td>605.041667</td>\n",
       "      <td>462.033249</td>\n",
       "      <td>...</td>\n",
       "      <td>1613.572299</td>\n",
       "      <td>1273505.14</td>\n",
       "      <td>27211.88</td>\n",
       "      <td>423867.34</td>\n",
       "      <td>972677.20</td>\n",
       "      <td>4.499335e+07</td>\n",
       "      <td>345774.82</td>\n",
       "      <td>9576194.0</td>\n",
       "      <td>52.4958</td>\n",
       "      <td>734720.96</td>\n",
       "    </tr>\n",
       "    <tr>\n",
       "      <th>1</th>\n",
       "      <td>2016-02-29</td>\n",
       "      <td>2704.221700</td>\n",
       "      <td>41558.035267</td>\n",
       "      <td>41558.035267</td>\n",
       "      <td>19171.333067</td>\n",
       "      <td>2850.642583</td>\n",
       "      <td>1408.870900</td>\n",
       "      <td>832.488483</td>\n",
       "      <td>572.159733</td>\n",
       "      <td>411.821185</td>\n",
       "      <td>...</td>\n",
       "      <td>1399.090831</td>\n",
       "      <td>1272524.82</td>\n",
       "      <td>26287.66</td>\n",
       "      <td>370827.64</td>\n",
       "      <td>1019057.06</td>\n",
       "      <td>4.240894e+07</td>\n",
       "      <td>335978.38</td>\n",
       "      <td>9005914.0</td>\n",
       "      <td>191.4000</td>\n",
       "      <td>773126.34</td>\n",
       "    </tr>\n",
       "    <tr>\n",
       "      <th>2</th>\n",
       "      <td>2016-03-31</td>\n",
       "      <td>3795.807367</td>\n",
       "      <td>34026.880883</td>\n",
       "      <td>34026.880883</td>\n",
       "      <td>13046.526433</td>\n",
       "      <td>3511.736400</td>\n",
       "      <td>1585.980033</td>\n",
       "      <td>1268.479517</td>\n",
       "      <td>614.368167</td>\n",
       "      <td>403.409092</td>\n",
       "      <td>...</td>\n",
       "      <td>1506.501997</td>\n",
       "      <td>1893779.82</td>\n",
       "      <td>27006.82</td>\n",
       "      <td>415287.06</td>\n",
       "      <td>1725778.62</td>\n",
       "      <td>4.532512e+07</td>\n",
       "      <td>348506.48</td>\n",
       "      <td>8826994.0</td>\n",
       "      <td>102.7296</td>\n",
       "      <td>1266782.82</td>\n",
       "    </tr>\n",
       "    <tr>\n",
       "      <th>3</th>\n",
       "      <td>2016-04-30</td>\n",
       "      <td>3893.534950</td>\n",
       "      <td>29662.845900</td>\n",
       "      <td>29662.845900</td>\n",
       "      <td>9393.876000</td>\n",
       "      <td>3173.250717</td>\n",
       "      <td>1571.712033</td>\n",
       "      <td>1548.467600</td>\n",
       "      <td>627.425083</td>\n",
       "      <td>311.436781</td>\n",
       "      <td>...</td>\n",
       "      <td>1443.403725</td>\n",
       "      <td>2009284.86</td>\n",
       "      <td>24343.16</td>\n",
       "      <td>407053.96</td>\n",
       "      <td>1906766.44</td>\n",
       "      <td>4.396823e+07</td>\n",
       "      <td>279707.68</td>\n",
       "      <td>7829250.0</td>\n",
       "      <td>106.1054</td>\n",
       "      <td>1266699.98</td>\n",
       "    </tr>\n",
       "    <tr>\n",
       "      <th>4</th>\n",
       "      <td>2016-05-31</td>\n",
       "      <td>3670.712050</td>\n",
       "      <td>25550.843150</td>\n",
       "      <td>25550.843150</td>\n",
       "      <td>5957.877471</td>\n",
       "      <td>2768.990462</td>\n",
       "      <td>1179.055583</td>\n",
       "      <td>1561.469854</td>\n",
       "      <td>617.532683</td>\n",
       "      <td>297.327372</td>\n",
       "      <td>...</td>\n",
       "      <td>1180.812253</td>\n",
       "      <td>2741102.92</td>\n",
       "      <td>28744.40</td>\n",
       "      <td>413311.66</td>\n",
       "      <td>2718423.98</td>\n",
       "      <td>4.529205e+07</td>\n",
       "      <td>272747.04</td>\n",
       "      <td>8057126.0</td>\n",
       "      <td>101.3780</td>\n",
       "      <td>2117725.96</td>\n",
       "    </tr>\n",
       "    <tr>\n",
       "      <th>5</th>\n",
       "      <td>2016-06-30</td>\n",
       "      <td>4496.177683</td>\n",
       "      <td>23173.293267</td>\n",
       "      <td>23173.293267</td>\n",
       "      <td>4017.613567</td>\n",
       "      <td>3293.974683</td>\n",
       "      <td>1183.945700</td>\n",
       "      <td>2004.028550</td>\n",
       "      <td>627.113300</td>\n",
       "      <td>283.716184</td>\n",
       "      <td>...</td>\n",
       "      <td>1072.109282</td>\n",
       "      <td>2939548.82</td>\n",
       "      <td>26447.80</td>\n",
       "      <td>420454.98</td>\n",
       "      <td>2935773.02</td>\n",
       "      <td>4.373445e+07</td>\n",
       "      <td>293730.26</td>\n",
       "      <td>9856594.0</td>\n",
       "      <td>71.1080</td>\n",
       "      <td>2273238.24</td>\n",
       "    </tr>\n",
       "    <tr>\n",
       "      <th>6</th>\n",
       "      <td>2016-07-31</td>\n",
       "      <td>4092.765050</td>\n",
       "      <td>52167.125350</td>\n",
       "      <td>52167.125350</td>\n",
       "      <td>7656.294050</td>\n",
       "      <td>4055.020917</td>\n",
       "      <td>1044.151083</td>\n",
       "      <td>2897.184217</td>\n",
       "      <td>653.969250</td>\n",
       "      <td>405.868948</td>\n",
       "      <td>...</td>\n",
       "      <td>1298.198965</td>\n",
       "      <td>3266665.62</td>\n",
       "      <td>31076.81</td>\n",
       "      <td>416655.03</td>\n",
       "      <td>3277066.06</td>\n",
       "      <td>4.529199e+07</td>\n",
       "      <td>237031.33</td>\n",
       "      <td>8726364.0</td>\n",
       "      <td>156.1155</td>\n",
       "      <td>2738618.11</td>\n",
       "    </tr>\n",
       "    <tr>\n",
       "      <th>7</th>\n",
       "      <td>2016-08-31</td>\n",
       "      <td>4192.526816</td>\n",
       "      <td>61786.433333</td>\n",
       "      <td>61786.433333</td>\n",
       "      <td>8726.455583</td>\n",
       "      <td>4415.748867</td>\n",
       "      <td>1789.761367</td>\n",
       "      <td>4397.207150</td>\n",
       "      <td>616.895167</td>\n",
       "      <td>538.996528</td>\n",
       "      <td>...</td>\n",
       "      <td>1355.582418</td>\n",
       "      <td>3239061.56</td>\n",
       "      <td>32280.40</td>\n",
       "      <td>425692.47</td>\n",
       "      <td>3265930.24</td>\n",
       "      <td>4.541104e+07</td>\n",
       "      <td>259527.83</td>\n",
       "      <td>8277603.0</td>\n",
       "      <td>121.3473</td>\n",
       "      <td>2774927.02</td>\n",
       "    </tr>\n",
       "    <tr>\n",
       "      <th>8</th>\n",
       "      <td>2016-09-30</td>\n",
       "      <td>3486.357550</td>\n",
       "      <td>31955.496867</td>\n",
       "      <td>31955.496867</td>\n",
       "      <td>4671.403867</td>\n",
       "      <td>3619.136700</td>\n",
       "      <td>1466.955383</td>\n",
       "      <td>2787.093100</td>\n",
       "      <td>622.384900</td>\n",
       "      <td>542.107678</td>\n",
       "      <td>...</td>\n",
       "      <td>1408.481553</td>\n",
       "      <td>2590152.45</td>\n",
       "      <td>32500.29</td>\n",
       "      <td>391836.09</td>\n",
       "      <td>2580783.93</td>\n",
       "      <td>4.413522e+07</td>\n",
       "      <td>238256.40</td>\n",
       "      <td>7197901.0</td>\n",
       "      <td>101.5911</td>\n",
       "      <td>2205009.54</td>\n",
       "    </tr>\n",
       "    <tr>\n",
       "      <th>9</th>\n",
       "      <td>2016-10-31</td>\n",
       "      <td>2399.078134</td>\n",
       "      <td>30222.929933</td>\n",
       "      <td>30222.929933</td>\n",
       "      <td>6569.421133</td>\n",
       "      <td>3928.120117</td>\n",
       "      <td>1436.985717</td>\n",
       "      <td>1328.242733</td>\n",
       "      <td>648.891350</td>\n",
       "      <td>485.023292</td>\n",
       "      <td>...</td>\n",
       "      <td>1334.970093</td>\n",
       "      <td>2139351.02</td>\n",
       "      <td>31915.44</td>\n",
       "      <td>419083.32</td>\n",
       "      <td>2037498.29</td>\n",
       "      <td>4.544077e+07</td>\n",
       "      <td>296114.39</td>\n",
       "      <td>10128871.0</td>\n",
       "      <td>95.1444</td>\n",
       "      <td>1709405.81</td>\n",
       "    </tr>\n",
       "    <tr>\n",
       "      <th>10</th>\n",
       "      <td>2016-11-30</td>\n",
       "      <td>2254.192834</td>\n",
       "      <td>36416.598000</td>\n",
       "      <td>36416.598000</td>\n",
       "      <td>10885.690317</td>\n",
       "      <td>3531.382650</td>\n",
       "      <td>2142.704650</td>\n",
       "      <td>1244.864733</td>\n",
       "      <td>614.889050</td>\n",
       "      <td>574.939485</td>\n",
       "      <td>...</td>\n",
       "      <td>1496.017583</td>\n",
       "      <td>1579043.42</td>\n",
       "      <td>32046.81</td>\n",
       "      <td>366243.66</td>\n",
       "      <td>1393893.74</td>\n",
       "      <td>4.386613e+07</td>\n",
       "      <td>278554.66</td>\n",
       "      <td>9718274.0</td>\n",
       "      <td>146.7978</td>\n",
       "      <td>1227686.70</td>\n",
       "    </tr>\n",
       "    <tr>\n",
       "      <th>11</th>\n",
       "      <td>2016-12-31</td>\n",
       "      <td>830.825233</td>\n",
       "      <td>20063.105200</td>\n",
       "      <td>20063.105200</td>\n",
       "      <td>8548.519083</td>\n",
       "      <td>1769.333750</td>\n",
       "      <td>1063.197633</td>\n",
       "      <td>522.790850</td>\n",
       "      <td>304.176967</td>\n",
       "      <td>215.506788</td>\n",
       "      <td>...</td>\n",
       "      <td>697.668511</td>\n",
       "      <td>625347.82</td>\n",
       "      <td>14777.62</td>\n",
       "      <td>192589.89</td>\n",
       "      <td>486752.26</td>\n",
       "      <td>2.225728e+07</td>\n",
       "      <td>165039.75</td>\n",
       "      <td>4768552.0</td>\n",
       "      <td>62.9819</td>\n",
       "      <td>410358.36</td>\n",
       "    </tr>\n",
       "  </tbody>\n",
       "</table>\n",
       "<p>12 rows × 24 columns</p>\n",
       "</div>"
      ],
      "text/plain": [
       "    Unnamed: 0          gen           use  House overall       Furnace  \\\n",
       "0   2016-01-31  2596.565467  46256.153317   46256.153317  20272.447383   \n",
       "1   2016-02-29  2704.221700  41558.035267   41558.035267  19171.333067   \n",
       "2   2016-03-31  3795.807367  34026.880883   34026.880883  13046.526433   \n",
       "3   2016-04-30  3893.534950  29662.845900   29662.845900   9393.876000   \n",
       "4   2016-05-31  3670.712050  25550.843150   25550.843150   5957.877471   \n",
       "5   2016-06-30  4496.177683  23173.293267   23173.293267   4017.613567   \n",
       "6   2016-07-31  4092.765050  52167.125350   52167.125350   7656.294050   \n",
       "7   2016-08-31  4192.526816  61786.433333   61786.433333   8726.455583   \n",
       "8   2016-09-30  3486.357550  31955.496867   31955.496867   4671.403867   \n",
       "9   2016-10-31  2399.078134  30222.929933   30222.929933   6569.421133   \n",
       "10  2016-11-30  2254.192834  36416.598000   36416.598000  10885.690317   \n",
       "11  2016-12-31   830.825233  20063.105200   20063.105200   8548.519083   \n",
       "\n",
       "    Home office  Living room  Wine cellar  Garage door     Kitchen  ...  \\\n",
       "0   4043.940117  1921.156633   840.762533   605.041667  462.033249  ...   \n",
       "1   2850.642583  1408.870900   832.488483   572.159733  411.821185  ...   \n",
       "2   3511.736400  1585.980033  1268.479517   614.368167  403.409092  ...   \n",
       "3   3173.250717  1571.712033  1548.467600   627.425083  311.436781  ...   \n",
       "4   2768.990462  1179.055583  1561.469854   617.532683  297.327372  ...   \n",
       "5   3293.974683  1183.945700  2004.028550   627.113300  283.716184  ...   \n",
       "6   4055.020917  1044.151083  2897.184217   653.969250  405.868948  ...   \n",
       "7   4415.748867  1789.761367  4397.207150   616.895167  538.996528  ...   \n",
       "8   3619.136700  1466.955383  2787.093100   622.384900  542.107678  ...   \n",
       "9   3928.120117  1436.985717  1328.242733   648.891350  485.023292  ...   \n",
       "10  3531.382650  2142.704650  1244.864733   614.889050  574.939485  ...   \n",
       "11  1769.333750  1063.197633   522.790850   304.176967  215.506788  ...   \n",
       "\n",
       "     Dishwasher  temperature  humidity  visibility  apparentTemperature  \\\n",
       "0   1613.572299   1273505.14  27211.88   423867.34            972677.20   \n",
       "1   1399.090831   1272524.82  26287.66   370827.64           1019057.06   \n",
       "2   1506.501997   1893779.82  27006.82   415287.06           1725778.62   \n",
       "3   1443.403725   2009284.86  24343.16   407053.96           1906766.44   \n",
       "4   1180.812253   2741102.92  28744.40   413311.66           2718423.98   \n",
       "5   1072.109282   2939548.82  26447.80   420454.98           2935773.02   \n",
       "6   1298.198965   3266665.62  31076.81   416655.03           3277066.06   \n",
       "7   1355.582418   3239061.56  32280.40   425692.47           3265930.24   \n",
       "8   1408.481553   2590152.45  32500.29   391836.09           2580783.93   \n",
       "9   1334.970093   2139351.02  31915.44   419083.32           2037498.29   \n",
       "10  1496.017583   1579043.42  32046.81   366243.66           1393893.74   \n",
       "11   697.668511    625347.82  14777.62   192589.89            486752.26   \n",
       "\n",
       "        pressure  windSpeed  windBearing  precipIntensity    dewPoint  \n",
       "0   4.499335e+07  345774.82    9576194.0          52.4958   734720.96  \n",
       "1   4.240894e+07  335978.38    9005914.0         191.4000   773126.34  \n",
       "2   4.532512e+07  348506.48    8826994.0         102.7296  1266782.82  \n",
       "3   4.396823e+07  279707.68    7829250.0         106.1054  1266699.98  \n",
       "4   4.529205e+07  272747.04    8057126.0         101.3780  2117725.96  \n",
       "5   4.373445e+07  293730.26    9856594.0          71.1080  2273238.24  \n",
       "6   4.529199e+07  237031.33    8726364.0         156.1155  2738618.11  \n",
       "7   4.541104e+07  259527.83    8277603.0         121.3473  2774927.02  \n",
       "8   4.413522e+07  238256.40    7197901.0         101.5911  2205009.54  \n",
       "9   4.544077e+07  296114.39   10128871.0          95.1444  1709405.81  \n",
       "10  4.386613e+07  278554.66    9718274.0         146.7978  1227686.70  \n",
       "11  2.225728e+07  165039.75    4768552.0          62.9819   410358.36  \n",
       "\n",
       "[12 rows x 24 columns]"
      ]
     },
     "execution_count": 6,
     "metadata": {},
     "output_type": "execute_result"
    }
   ],
   "source": [
    "df.head(12)"
   ]
  },
  {
   "cell_type": "code",
   "execution_count": 7,
   "metadata": {},
   "outputs": [],
   "source": [
    "# Calculating Energy efficiency\n",
    "df['EneEffi'] = df['use']-df['gen']"
   ]
  },
  {
   "cell_type": "code",
   "execution_count": 8,
   "metadata": {},
   "outputs": [
    {
     "data": {
      "text/plain": [
       "Index(['Unnamed: 0', 'gen', 'use', 'House overall', 'Furnace', 'Home office',\n",
       "       'Living room', 'Wine cellar', 'Garage door', 'Kitchen', 'Barn', 'Well',\n",
       "       'Fridge', 'Microwave', 'Dishwasher', 'temperature', 'humidity',\n",
       "       'visibility', 'apparentTemperature', 'pressure', 'windSpeed',\n",
       "       'windBearing', 'precipIntensity', 'dewPoint', 'EneEffi'],\n",
       "      dtype='object')"
      ]
     },
     "execution_count": 8,
     "metadata": {},
     "output_type": "execute_result"
    }
   ],
   "source": [
    "# Data Preparation\n",
    "df.columns\n",
    "#df.dtypes \n",
    "#CleanData.tail()"
   ]
  },
  {
   "cell_type": "code",
   "execution_count": 9,
   "metadata": {},
   "outputs": [],
   "source": [
    "inputdf = df.filter(items=[ 'EneEffi', 'Furnace', 'Home office',\n",
    "                            'Living room', 'Wine cellar', 'Garage door', 'Kitchen', 'Barn', 'Well',\n",
    "                            'Fridge', 'Microwave', 'Dishwasher', 'temperature', 'humidity',\n",
    "                            'visibility', 'apparentTemperature', 'pressure', 'windSpeed',\n",
    "                            'windBearing', 'precipIntensity', 'dewPoint'])"
   ]
  },
  {
   "cell_type": "code",
   "execution_count": 10,
   "metadata": {},
   "outputs": [
    {
     "data": {
      "text/plain": [
       "Index(['EneEffi', 'Furnace', 'Home office', 'Living room', 'Wine cellar',\n",
       "       'Garage door', 'Kitchen', 'Barn', 'Well', 'Fridge', 'Microwave',\n",
       "       'Dishwasher', 'temperature', 'humidity', 'visibility',\n",
       "       'apparentTemperature', 'pressure', 'windSpeed', 'windBearing',\n",
       "       'precipIntensity', 'dewPoint'],\n",
       "      dtype='object')"
      ]
     },
     "execution_count": 10,
     "metadata": {},
     "output_type": "execute_result"
    }
   ],
   "source": [
    "# Running RF with all the data to investigate the driving variables of energy efficiency at a 1min resolution\n",
    "#my_data.dtypes \n",
    "features=inputdf\n",
    "type(features)\n",
    "#features.iloc[:,5:].head(5)\n",
    "#features.head(5)\n",
    "#features.info()\n",
    "features.columns"
   ]
  },
  {
   "cell_type": "code",
   "execution_count": 11,
   "metadata": {},
   "outputs": [],
   "source": [
    "# Labels are the values we want to predict\n",
    "labels = np.array(features['EneEffi'])\n",
    "# Remove the labels from the features\n",
    "# axis 1 refers to the columns\n",
    "features= features.drop('EneEffi', axis = 1)\n",
    "# Saving feature names for later use\n",
    "feature_list = list(features.columns)\n",
    "# Convert to numpy array\n",
    "features = np.array(features)"
   ]
  },
  {
   "cell_type": "code",
   "execution_count": 12,
   "metadata": {},
   "outputs": [],
   "source": [
    "# Training and Testing Sets\n",
    "# Using Skicit-learn to split data into training and testing sets\n",
    "from sklearn.model_selection import train_test_split\n",
    "# Split the data into training and testing sets\n",
    "train_features, test_features, train_labels, test_labels = train_test_split(features, labels, test_size = 0.25, random_state = 100)"
   ]
  },
  {
   "cell_type": "code",
   "execution_count": 13,
   "metadata": {},
   "outputs": [
    {
     "name": "stdout",
     "output_type": "stream",
     "text": [
      "Training Features Shape: (9, 20)\n",
      "Training Labels Shape: (9,)\n",
      "Testing Features Shape: (3, 20)\n",
      "Testing Labels Shape: (3,)\n"
     ]
    }
   ],
   "source": [
    "print('Training Features Shape:', train_features.shape)\n",
    "print('Training Labels Shape:', train_labels.shape)\n",
    "print('Testing Features Shape:', test_features.shape)\n",
    "print('Testing Labels Shape:', test_labels.shape)"
   ]
  },
  {
   "cell_type": "code",
   "execution_count": 14,
   "metadata": {},
   "outputs": [
    {
     "data": {
      "text/plain": [
       "<function list.index(value, start=0, stop=9223372036854775807, /)>"
      ]
     },
     "execution_count": 14,
     "metadata": {},
     "output_type": "execute_result"
    }
   ],
   "source": [
    "feature_list.index"
   ]
  },
  {
   "cell_type": "code",
   "execution_count": 15,
   "metadata": {},
   "outputs": [],
   "source": [
    "# Import the model we are using\n",
    "from sklearn.ensemble import RandomForestRegressor\n",
    "# Instantiate model with 10 decision trees\n",
    "#rf = RandomForestRegressor(n_estimators = 100, random_state = 100)\n",
    "rf = RandomForestRegressor(n_estimators = 100, random_state = 100)\n",
    "# Train the model on training data\n",
    "rf.fit(train_features, train_labels);"
   ]
  },
  {
   "cell_type": "code",
   "execution_count": 16,
   "metadata": {},
   "outputs": [
    {
     "name": "stdout",
     "output_type": "stream",
     "text": [
      "Mean Absolute Error: 9528.9 degrees.\n"
     ]
    }
   ],
   "source": [
    "# Use the forest's predict method on the test data\n",
    "predictions = rf.predict(test_features)\n",
    "# Calculate the absolute errors\n",
    "errors = abs(predictions - test_labels)\n",
    "# Print out the mean absolute error (mae)\n",
    "print('Mean Absolute Error:', round(np.mean(errors), 2), 'degrees.')\n",
    "#Mean Absolute Error: 8512.05 degrees"
   ]
  },
  {
   "cell_type": "code",
   "execution_count": 17,
   "metadata": {},
   "outputs": [
    {
     "name": "stdout",
     "output_type": "stream",
     "text": [
      "Accuracy: 74.9 %.\n"
     ]
    }
   ],
   "source": [
    "# Calculate mean absolute percentage error (MAPE)\n",
    "mape = 100 * (errors / test_labels)\n",
    "# Calculate and display accuracy\n",
    "accuracy = 100 - np.mean(mape)\n",
    "print('Accuracy:', round(accuracy, 2), '%.')\n",
    "#Accuracy: 95.96 %.  "
   ]
  },
  {
   "cell_type": "code",
   "execution_count": 18,
   "metadata": {},
   "outputs": [],
   "source": [
    "# What are the top predictor variables that regulate power used in a smarthome?\n",
    "# Import tools needed for visualization\n",
    "from sklearn.tree import export_graphviz\n",
    "import pydot\n",
    "# Pull out one tree from the forest\n",
    "tree = rf.estimators_[5]"
   ]
  },
  {
   "cell_type": "code",
   "execution_count": 19,
   "metadata": {},
   "outputs": [],
   "source": [
    "# Import tools needed for visualization\n",
    "from sklearn.tree import export_graphviz\n",
    "import pydot\n",
    "# Pull out one tree from the forest\n",
    "tree = rf.estimators_[5]"
   ]
  },
  {
   "cell_type": "code",
   "execution_count": 20,
   "metadata": {},
   "outputs": [],
   "source": [
    "## Export the image to a dot file\n",
    "#export_graphviz(tree, out_file = 'tree', feature_names = feature_list, rounded = True, precision = 1)\n",
    "## Use dot file to create a graph\n",
    "#(graph, ) = pydot.graph_from_dot_file('tree')\n",
    "## Write graph to a png file\n",
    "#graph.write_png('tree.png')"
   ]
  },
  {
   "cell_type": "code",
   "execution_count": 21,
   "metadata": {},
   "outputs": [
    {
     "name": "stdout",
     "output_type": "stream",
     "text": [
      "Variable: Home office          Importance: 0.24\n",
      "Variable: visibility           Importance: 0.13\n",
      "Variable: Living room          Importance: 0.11\n",
      "Variable: Wine cellar          Importance: 0.06\n",
      "Variable: apparentTemperature  Importance: 0.06\n",
      "Variable: pressure             Importance: 0.06\n",
      "Variable: Dishwasher           Importance: 0.05\n",
      "Variable: Furnace              Importance: 0.04\n",
      "Variable: Kitchen              Importance: 0.04\n",
      "Variable: Barn                 Importance: 0.03\n",
      "Variable: dewPoint             Importance: 0.03\n",
      "Variable: Garage door          Importance: 0.02\n",
      "Variable: Fridge               Importance: 0.02\n",
      "Variable: Microwave            Importance: 0.02\n",
      "Variable: temperature          Importance: 0.02\n",
      "Variable: humidity             Importance: 0.02\n",
      "Variable: precipIntensity      Importance: 0.02\n",
      "Variable: Well                 Importance: 0.01\n",
      "Variable: windSpeed            Importance: 0.01\n",
      "Variable: windBearing          Importance: 0.0\n"
     ]
    }
   ],
   "source": [
    "# Get numerical feature importances\n",
    "importances = list(rf.feature_importances_)\n",
    "# List of tuples with variable and importance\n",
    "feature_importances = [(feature, round(importance, 2)) for feature, importance in zip(feature_list, importances)]\n",
    "# Sort the feature importances by most important first\n",
    "feature_importances = sorted(feature_importances, key = lambda x: x[1], reverse = True)\n",
    "# Print out the feature and importances \n",
    "[print('Variable: {:20} Importance: {}'.format(*pair)) for pair in feature_importances];"
   ]
  },
  {
   "cell_type": "code",
   "execution_count": 22,
   "metadata": {},
   "outputs": [
    {
     "ename": "AttributeError",
     "evalue": "'list' object has no attribute 'plot'",
     "output_type": "error",
     "traceback": [
      "\u001b[1;31m---------------------------------------------------------------------------\u001b[0m",
      "\u001b[1;31mAttributeError\u001b[0m                            Traceback (most recent call last)",
      "\u001b[1;32m<ipython-input-22-fc28adcf71d7>\u001b[0m in \u001b[0;36m<module>\u001b[1;34m\u001b[0m\n\u001b[0;32m      1\u001b[0m \u001b[0mplt\u001b[0m\u001b[1;33m.\u001b[0m\u001b[0mfigure\u001b[0m\u001b[1;33m(\u001b[0m\u001b[1;33m)\u001b[0m\u001b[1;33m;\u001b[0m\u001b[1;33m\u001b[0m\u001b[1;33m\u001b[0m\u001b[0m\n\u001b[1;32m----> 2\u001b[1;33m \u001b[0mfeature_importances\u001b[0m\u001b[1;33m.\u001b[0m\u001b[0mplot\u001b[0m\u001b[1;33m(\u001b[0m\u001b[1;33m)\u001b[0m\u001b[1;33m;\u001b[0m\u001b[1;33m\u001b[0m\u001b[1;33m\u001b[0m\u001b[0m\n\u001b[0m",
      "\u001b[1;31mAttributeError\u001b[0m: 'list' object has no attribute 'plot'"
     ]
    },
    {
     "data": {
      "text/plain": [
       "<Figure size 432x288 with 0 Axes>"
      ]
     },
     "metadata": {},
     "output_type": "display_data"
    }
   ],
   "source": [
    "plt.figure();\n",
    "feature_importances.plot();"
   ]
  },
  {
   "cell_type": "code",
   "execution_count": 24,
   "metadata": {},
   "outputs": [
    {
     "name": "stdout",
     "output_type": "stream",
     "text": [
      "Mean Absolute Error: 10268.06 degrees.\n",
      "Accuracy: 71.73 %.\n"
     ]
    }
   ],
   "source": [
    "# New random forest with only the two most important variables\n",
    "rf_most_important = RandomForestRegressor(n_estimators= 1000, random_state=1000)\n",
    "# Extract the two most important features\n",
    "important_indices = [feature_list.index('Home office'), feature_list.index('Living room')]\n",
    "train_important = train_features[:, important_indices]\n",
    "test_important = test_features[:, important_indices]\n",
    "# Train the random forest\n",
    "rf_most_important.fit(train_important, train_labels)\n",
    "# Make predictions and determine the error\n",
    "predictions = rf_most_important.predict(test_important)\n",
    "errors = abs(predictions - test_labels)\n",
    "# Display the performance metrics\n",
    "print('Mean Absolute Error:', round(np.mean(errors), 2), 'degrees.')\n",
    "mape = np.mean(100 * (errors / test_labels))\n",
    "accuracy = 100 - mape\n",
    "print('Accuracy:', round(accuracy, 2), '%.')\n",
    "\n",
    "#Note:\n",
    "#This tells us that temperature and dew point are the two most important variables to regulate generated energy "
   ]
  },
  {
   "cell_type": "code",
   "execution_count": null,
   "metadata": {},
   "outputs": [],
   "source": [
    "# Save the model\n",
    "#model.save(\"voice_model_trained.h5\")"
   ]
  },
  {
   "cell_type": "code",
   "execution_count": 26,
   "metadata": {},
   "outputs": [
    {
     "data": {
      "image/png": "[encoded data removed]",
      "text/plain": [
       "<Figure size 432x288 with 1 Axes>"
      ]
     },
     "metadata": {},
     "output_type": "display_data"
    }
   ],
   "source": [
    "# Import matplotlib for plotting and use magic command for Jupyter Notebooks\n",
    "import matplotlib.pyplot as plt\n",
    "%matplotlib inline\n",
    "# Set the style\n",
    "plt.style.use('fivethirtyeight')\n",
    "# list of x locations for plotting\n",
    "x_values = list(range(len(importances)))\n",
    "# Make a bar chart\n",
    "plt.bar(x_values, importances, orientation = 'vertical')\n",
    "# Tick labels for x axis\n",
    "plt.xticks(x_values, feature_list, rotation='vertical')\n",
    "# Axis labels and title\n",
    "plt.ylabel('Importance'); plt.xlabel('Variable'); plt.title('Variables of Importance');"
   ]
  },
  {
   "cell_type": "code",
   "execution_count": null,
   "metadata": {},
   "outputs": [],
   "source": []
  }
 ],
 "metadata": {
  "kernelspec": {
   "display_name": "Python 3",
   "language": "python",
   "name": "python3"
  },
  "language_info": {
   "codemirror_mode": {
    "name": "ipython",
    "version": 3
   },
   "file_extension": ".py",
   "mimetype": "text/x-python",
   "name": "python",
   "nbconvert_exporter": "python",
   "pygments_lexer": "ipython3",
   "version": "3.7.3"
  }
 },
 "nbformat": 4,
 "nbformat_minor": 2
}
