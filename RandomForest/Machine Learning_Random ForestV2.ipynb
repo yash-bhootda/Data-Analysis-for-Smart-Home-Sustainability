{
 "cells": [
  {
   "cell_type": "code",
   "execution_count": 2,
   "metadata": {},
   "outputs": [],
   "source": [
    "# Title:     SmartHome Dataset\n",
    "# Authors:   Aline J\n",
    "# Date:      01/06/2020\n",
    "# Goal:      Analyze and predict energy use efficiency \n",
    "#            in a smarthouse during a year under variable weather conditions.\n",
    "\n",
    "# Questions: \n",
    "# 1) What are the variables that control generated energy? \n",
    "# 2) What are the variables that control used energy? \n",
    "# 3) What are the variables that control energy efficiency?\n",
    "\n",
    "# Method. Unsupervised Machine learning Method, specifically random forest regression analysis.\n",
    "# Results: Used CleanData\n",
    "#         Several attempts to run the analysis were done at differen frequencies. \n",
    "#         Only Monthly frequency data resulted the highest accuracy (76%) vs Minute data (0.01%).  \n",
    "#         The minimum random state of 50, were enough to explain the variability in the dataset.  \n",
    "#         The same accuracy was yield when running random state of 1000.\n"
   ]
  },
  {
   "cell_type": "code",
   "execution_count": 3,
   "metadata": {},
   "outputs": [
    {
     "name": "stdout",
     "output_type": "stream",
     "text": [
      "Requirement already satisfied: sklearn in c:\\python310\\lib\\site-packages (0.0.post1)\n"
     ]
    },
    {
     "name": "stderr",
     "output_type": "stream",
     "text": [
      "WARNING: Retrying (Retry(total=4, connect=None, read=None, redirect=None, status=None)) after connection broken by 'NewConnectionError('<pip._vendor.urllib3.connection.HTTPSConnection object at 0x0000023D23A89600>: Failed to establish a new connection: [Errno 11001] getaddrinfo failed')': /simple/sklearn/\n",
      "WARNING: Retrying (Retry(total=3, connect=None, read=None, redirect=None, status=None)) after connection broken by 'NewConnectionError('<pip._vendor.urllib3.connection.HTTPSConnection object at 0x0000023D23A89930>: Failed to establish a new connection: [Errno 11001] getaddrinfo failed')': /simple/sklearn/\n",
      "WARNING: Retrying (Retry(total=2, connect=None, read=None, redirect=None, status=None)) after connection broken by 'NewConnectionError('<pip._vendor.urllib3.connection.HTTPSConnection object at 0x0000023D23A89AE0>: Failed to establish a new connection: [Errno 11001] getaddrinfo failed')': /simple/sklearn/\n",
      "WARNING: Retrying (Retry(total=1, connect=None, read=None, redirect=None, status=None)) after connection broken by 'NewConnectionError('<pip._vendor.urllib3.connection.HTTPSConnection object at 0x0000023D23A89C90>: Failed to establish a new connection: [Errno 11001] getaddrinfo failed')': /simple/sklearn/\n",
      "WARNING: Retrying (Retry(total=0, connect=None, read=None, redirect=None, status=None)) after connection broken by 'NewConnectionError('<pip._vendor.urllib3.connection.HTTPSConnection object at 0x0000023D23A89E40>: Failed to establish a new connection: [Errno 11001] getaddrinfo failed')': /simple/sklearn/\n",
      "\n",
      "[notice] A new release of pip available: 22.3.1 -> 23.0.1\n",
      "[notice] To update, run: python.exe -m pip install --upgrade pip\n"
     ]
    }
   ],
   "source": [
    "### Begins Here ####\n",
    "# 1. Import dependencies\n",
    "# Update sklearn to prevent version mismatches\n",
    "!pip install sklearn --upgrade"
   ]
  },
  {
   "cell_type": "code",
   "execution_count": 4,
   "metadata": {},
   "outputs": [
    {
     "name": "stdout",
     "output_type": "stream",
     "text": [
      "Requirement already satisfied: joblib in c:\\python310\\lib\\site-packages (1.1.0)\n"
     ]
    },
    {
     "name": "stderr",
     "output_type": "stream",
     "text": [
      "\n",
      "[notice] A new release of pip available: 22.3.1 -> 23.0.1\n",
      "[notice] To update, run: python.exe -m pip install --upgrade pip\n"
     ]
    }
   ],
   "source": [
    "# install joblib. This will be used to save your model. \n",
    "# Restart your kernel after installing \n",
    "!pip install joblib"
   ]
  },
  {
   "cell_type": "code",
   "execution_count": 44,
   "metadata": {},
   "outputs": [],
   "source": [
    "# Other dependencies\n",
    "from mpl_toolkits.mplot3d import Axes3D\n",
    "from sklearn.preprocessing import StandardScaler\n",
    "import matplotlib.pyplot as plt # plotting\n",
    "import numpy as np # linear algebra\n",
    "import os # accessing directory structure\n",
    "import pandas as pd # data processing, CSV file I/O (e.g. pd.read_csv)\n",
    "from scipy import stats\n",
    "import string as string\n",
    "import warnings\n",
    "warnings.filterwarnings('ignore')"
   ]
  },
  {
   "cell_type": "code",
   "execution_count": 45,
   "metadata": {},
   "outputs": [
    {
     "name": "stdout",
     "output_type": "stream",
     "text": [
      "There are 503911 rows and 32 columns\n"
     ]
    }
   ],
   "source": [
    "# 2. Import Raw data file into a data frame\n",
    "csv_path = \"Data/HomeC.csv\"\n",
    "my_data = pd.read_csv(csv_path,   parse_dates=True)\n",
    "home_dat = my_data.select_dtypes(exclude=['object'])\n",
    "nRow, nCol = my_data.shape\n",
    "print(f'There are {nRow} rows and {nCol} columns')\n"
   ]
  },
  {
   "cell_type": "code",
   "execution_count": 46,
   "metadata": {},
   "outputs": [
    {
     "data": {
      "text/html": [
       "<div>\n",
       "<style scoped>\n",
       "    .dataframe tbody tr th:only-of-type {\n",
       "        vertical-align: middle;\n",
       "    }\n",
       "\n",
       "    .dataframe tbody tr th {\n",
       "        vertical-align: top;\n",
       "    }\n",
       "\n",
       "    .dataframe thead th {\n",
       "        text-align: right;\n",
       "    }\n",
       "</style>\n",
       "<table border=\"1\" class=\"dataframe\">\n",
       "  <thead>\n",
       "    <tr style=\"text-align: right;\">\n",
       "      <th></th>\n",
       "      <th>use [kW]</th>\n",
       "      <th>gen [kW]</th>\n",
       "      <th>House overall [kW]</th>\n",
       "      <th>Dishwasher [kW]</th>\n",
       "      <th>Furnace 1 [kW]</th>\n",
       "      <th>Furnace 2 [kW]</th>\n",
       "      <th>Home office [kW]</th>\n",
       "      <th>Fridge [kW]</th>\n",
       "      <th>Wine cellar [kW]</th>\n",
       "      <th>Garage door [kW]</th>\n",
       "      <th>...</th>\n",
       "      <th>temperature</th>\n",
       "      <th>humidity</th>\n",
       "      <th>visibility</th>\n",
       "      <th>apparentTemperature</th>\n",
       "      <th>pressure</th>\n",
       "      <th>windSpeed</th>\n",
       "      <th>windBearing</th>\n",
       "      <th>precipIntensity</th>\n",
       "      <th>dewPoint</th>\n",
       "      <th>precipProbability</th>\n",
       "    </tr>\n",
       "  </thead>\n",
       "  <tbody>\n",
       "    <tr>\n",
       "      <th>503906</th>\n",
       "      <td>1.599333</td>\n",
       "      <td>0.003233</td>\n",
       "      <td>1.599333</td>\n",
       "      <td>0.000050</td>\n",
       "      <td>0.104017</td>\n",
       "      <td>0.625033</td>\n",
       "      <td>0.041750</td>\n",
       "      <td>0.005233</td>\n",
       "      <td>0.008433</td>\n",
       "      <td>0.013433</td>\n",
       "      <td>...</td>\n",
       "      <td>35.12</td>\n",
       "      <td>0.86</td>\n",
       "      <td>8.74</td>\n",
       "      <td>29.45</td>\n",
       "      <td>1011.49</td>\n",
       "      <td>6.72</td>\n",
       "      <td>186.0</td>\n",
       "      <td>0.0101</td>\n",
       "      <td>31.27</td>\n",
       "      <td>0.51</td>\n",
       "    </tr>\n",
       "    <tr>\n",
       "      <th>503907</th>\n",
       "      <td>1.924267</td>\n",
       "      <td>0.003217</td>\n",
       "      <td>1.924267</td>\n",
       "      <td>0.000033</td>\n",
       "      <td>0.422383</td>\n",
       "      <td>0.637733</td>\n",
       "      <td>0.042033</td>\n",
       "      <td>0.004983</td>\n",
       "      <td>0.008467</td>\n",
       "      <td>0.012933</td>\n",
       "      <td>...</td>\n",
       "      <td>35.12</td>\n",
       "      <td>0.86</td>\n",
       "      <td>8.74</td>\n",
       "      <td>29.45</td>\n",
       "      <td>1011.49</td>\n",
       "      <td>6.72</td>\n",
       "      <td>186.0</td>\n",
       "      <td>0.0101</td>\n",
       "      <td>31.27</td>\n",
       "      <td>0.51</td>\n",
       "    </tr>\n",
       "    <tr>\n",
       "      <th>503908</th>\n",
       "      <td>1.978200</td>\n",
       "      <td>0.003217</td>\n",
       "      <td>1.978200</td>\n",
       "      <td>0.000050</td>\n",
       "      <td>0.495667</td>\n",
       "      <td>0.620367</td>\n",
       "      <td>0.042100</td>\n",
       "      <td>0.005333</td>\n",
       "      <td>0.008233</td>\n",
       "      <td>0.012817</td>\n",
       "      <td>...</td>\n",
       "      <td>35.12</td>\n",
       "      <td>0.86</td>\n",
       "      <td>8.74</td>\n",
       "      <td>29.45</td>\n",
       "      <td>1011.49</td>\n",
       "      <td>6.72</td>\n",
       "      <td>186.0</td>\n",
       "      <td>0.0101</td>\n",
       "      <td>31.27</td>\n",
       "      <td>0.51</td>\n",
       "    </tr>\n",
       "    <tr>\n",
       "      <th>503909</th>\n",
       "      <td>1.990950</td>\n",
       "      <td>0.003233</td>\n",
       "      <td>1.990950</td>\n",
       "      <td>0.000050</td>\n",
       "      <td>0.494700</td>\n",
       "      <td>0.634133</td>\n",
       "      <td>0.042100</td>\n",
       "      <td>0.004917</td>\n",
       "      <td>0.008133</td>\n",
       "      <td>0.012833</td>\n",
       "      <td>...</td>\n",
       "      <td>35.12</td>\n",
       "      <td>0.86</td>\n",
       "      <td>8.74</td>\n",
       "      <td>29.45</td>\n",
       "      <td>1011.49</td>\n",
       "      <td>6.72</td>\n",
       "      <td>186.0</td>\n",
       "      <td>0.0101</td>\n",
       "      <td>31.27</td>\n",
       "      <td>0.51</td>\n",
       "    </tr>\n",
       "    <tr>\n",
       "      <th>503910</th>\n",
       "      <td>NaN</td>\n",
       "      <td>NaN</td>\n",
       "      <td>NaN</td>\n",
       "      <td>NaN</td>\n",
       "      <td>NaN</td>\n",
       "      <td>NaN</td>\n",
       "      <td>NaN</td>\n",
       "      <td>NaN</td>\n",
       "      <td>NaN</td>\n",
       "      <td>NaN</td>\n",
       "      <td>...</td>\n",
       "      <td>NaN</td>\n",
       "      <td>NaN</td>\n",
       "      <td>NaN</td>\n",
       "      <td>NaN</td>\n",
       "      <td>NaN</td>\n",
       "      <td>NaN</td>\n",
       "      <td>NaN</td>\n",
       "      <td>NaN</td>\n",
       "      <td>NaN</td>\n",
       "      <td>NaN</td>\n",
       "    </tr>\n",
       "  </tbody>\n",
       "</table>\n",
       "<p>5 rows × 28 columns</p>\n",
       "</div>"
      ],
      "text/plain": [
       "        use [kW]  gen [kW]  House overall [kW]  Dishwasher [kW]  \\\n",
       "503906  1.599333  0.003233            1.599333         0.000050   \n",
       "503907  1.924267  0.003217            1.924267         0.000033   \n",
       "503908  1.978200  0.003217            1.978200         0.000050   \n",
       "503909  1.990950  0.003233            1.990950         0.000050   \n",
       "503910       NaN       NaN                 NaN              NaN   \n",
       "\n",
       "        Furnace 1 [kW]  Furnace 2 [kW]  Home office [kW]  Fridge [kW]  \\\n",
       "503906        0.104017        0.625033          0.041750     0.005233   \n",
       "503907        0.422383        0.637733          0.042033     0.004983   \n",
       "503908        0.495667        0.620367          0.042100     0.005333   \n",
       "503909        0.494700        0.634133          0.042100     0.004917   \n",
       "503910             NaN             NaN               NaN          NaN   \n",
       "\n",
       "        Wine cellar [kW]  Garage door [kW]  ...  temperature  humidity  \\\n",
       "503906          0.008433          0.013433  ...        35.12      0.86   \n",
       "503907          0.008467          0.012933  ...        35.12      0.86   \n",
       "503908          0.008233          0.012817  ...        35.12      0.86   \n",
       "503909          0.008133          0.012833  ...        35.12      0.86   \n",
       "503910               NaN               NaN  ...          NaN       NaN   \n",
       "\n",
       "        visibility  apparentTemperature  pressure  windSpeed  windBearing  \\\n",
       "503906        8.74                29.45   1011.49       6.72        186.0   \n",
       "503907        8.74                29.45   1011.49       6.72        186.0   \n",
       "503908        8.74                29.45   1011.49       6.72        186.0   \n",
       "503909        8.74                29.45   1011.49       6.72        186.0   \n",
       "503910         NaN                  NaN       NaN        NaN          NaN   \n",
       "\n",
       "        precipIntensity  dewPoint  precipProbability  \n",
       "503906           0.0101     31.27               0.51  \n",
       "503907           0.0101     31.27               0.51  \n",
       "503908           0.0101     31.27               0.51  \n",
       "503909           0.0101     31.27               0.51  \n",
       "503910              NaN       NaN                NaN  \n",
       "\n",
       "[5 rows x 28 columns]"
      ]
     },
     "execution_count": 46,
     "metadata": {},
     "output_type": "execute_result"
    }
   ],
   "source": [
    "home_dat.head(5)\n",
    "home_dat.tail(5)\n"
   ]
  },
  {
   "cell_type": "code",
   "execution_count": 47,
   "metadata": {},
   "outputs": [],
   "source": [
    "time_index = pd.date_range('2016-01-01 05:00', periods=503911,  freq='min')  \n",
    "time_index = pd.DatetimeIndex(time_index)\n",
    "home_dat = home_dat.set_index(time_index)\n",
    "# Check that a dataset has been uploaded into my_data"
   ]
  },
  {
   "cell_type": "code",
   "execution_count": 48,
   "metadata": {},
   "outputs": [
    {
     "data": {
      "text/html": [
       "<div>\n",
       "<style scoped>\n",
       "    .dataframe tbody tr th:only-of-type {\n",
       "        vertical-align: middle;\n",
       "    }\n",
       "\n",
       "    .dataframe tbody tr th {\n",
       "        vertical-align: top;\n",
       "    }\n",
       "\n",
       "    .dataframe thead th {\n",
       "        text-align: right;\n",
       "    }\n",
       "</style>\n",
       "<table border=\"1\" class=\"dataframe\">\n",
       "  <thead>\n",
       "    <tr style=\"text-align: right;\">\n",
       "      <th></th>\n",
       "      <th>use [kW]</th>\n",
       "      <th>gen [kW]</th>\n",
       "      <th>House overall [kW]</th>\n",
       "      <th>Dishwasher [kW]</th>\n",
       "      <th>Furnace 1 [kW]</th>\n",
       "      <th>Furnace 2 [kW]</th>\n",
       "      <th>Home office [kW]</th>\n",
       "      <th>Fridge [kW]</th>\n",
       "      <th>Wine cellar [kW]</th>\n",
       "      <th>Garage door [kW]</th>\n",
       "      <th>...</th>\n",
       "      <th>temperature</th>\n",
       "      <th>humidity</th>\n",
       "      <th>visibility</th>\n",
       "      <th>apparentTemperature</th>\n",
       "      <th>pressure</th>\n",
       "      <th>windSpeed</th>\n",
       "      <th>windBearing</th>\n",
       "      <th>precipIntensity</th>\n",
       "      <th>dewPoint</th>\n",
       "      <th>precipProbability</th>\n",
       "    </tr>\n",
       "  </thead>\n",
       "  <tbody>\n",
       "    <tr>\n",
       "      <th>2016-12-16 03:26:00</th>\n",
       "      <td>1.599333</td>\n",
       "      <td>0.003233</td>\n",
       "      <td>1.599333</td>\n",
       "      <td>0.000050</td>\n",
       "      <td>0.104017</td>\n",
       "      <td>0.625033</td>\n",
       "      <td>0.041750</td>\n",
       "      <td>0.005233</td>\n",
       "      <td>0.008433</td>\n",
       "      <td>0.013433</td>\n",
       "      <td>...</td>\n",
       "      <td>35.12</td>\n",
       "      <td>0.86</td>\n",
       "      <td>8.74</td>\n",
       "      <td>29.45</td>\n",
       "      <td>1011.49</td>\n",
       "      <td>6.72</td>\n",
       "      <td>186.0</td>\n",
       "      <td>0.0101</td>\n",
       "      <td>31.27</td>\n",
       "      <td>0.51</td>\n",
       "    </tr>\n",
       "    <tr>\n",
       "      <th>2016-12-16 03:27:00</th>\n",
       "      <td>1.924267</td>\n",
       "      <td>0.003217</td>\n",
       "      <td>1.924267</td>\n",
       "      <td>0.000033</td>\n",
       "      <td>0.422383</td>\n",
       "      <td>0.637733</td>\n",
       "      <td>0.042033</td>\n",
       "      <td>0.004983</td>\n",
       "      <td>0.008467</td>\n",
       "      <td>0.012933</td>\n",
       "      <td>...</td>\n",
       "      <td>35.12</td>\n",
       "      <td>0.86</td>\n",
       "      <td>8.74</td>\n",
       "      <td>29.45</td>\n",
       "      <td>1011.49</td>\n",
       "      <td>6.72</td>\n",
       "      <td>186.0</td>\n",
       "      <td>0.0101</td>\n",
       "      <td>31.27</td>\n",
       "      <td>0.51</td>\n",
       "    </tr>\n",
       "    <tr>\n",
       "      <th>2016-12-16 03:28:00</th>\n",
       "      <td>1.978200</td>\n",
       "      <td>0.003217</td>\n",
       "      <td>1.978200</td>\n",
       "      <td>0.000050</td>\n",
       "      <td>0.495667</td>\n",
       "      <td>0.620367</td>\n",
       "      <td>0.042100</td>\n",
       "      <td>0.005333</td>\n",
       "      <td>0.008233</td>\n",
       "      <td>0.012817</td>\n",
       "      <td>...</td>\n",
       "      <td>35.12</td>\n",
       "      <td>0.86</td>\n",
       "      <td>8.74</td>\n",
       "      <td>29.45</td>\n",
       "      <td>1011.49</td>\n",
       "      <td>6.72</td>\n",
       "      <td>186.0</td>\n",
       "      <td>0.0101</td>\n",
       "      <td>31.27</td>\n",
       "      <td>0.51</td>\n",
       "    </tr>\n",
       "    <tr>\n",
       "      <th>2016-12-16 03:29:00</th>\n",
       "      <td>1.990950</td>\n",
       "      <td>0.003233</td>\n",
       "      <td>1.990950</td>\n",
       "      <td>0.000050</td>\n",
       "      <td>0.494700</td>\n",
       "      <td>0.634133</td>\n",
       "      <td>0.042100</td>\n",
       "      <td>0.004917</td>\n",
       "      <td>0.008133</td>\n",
       "      <td>0.012833</td>\n",
       "      <td>...</td>\n",
       "      <td>35.12</td>\n",
       "      <td>0.86</td>\n",
       "      <td>8.74</td>\n",
       "      <td>29.45</td>\n",
       "      <td>1011.49</td>\n",
       "      <td>6.72</td>\n",
       "      <td>186.0</td>\n",
       "      <td>0.0101</td>\n",
       "      <td>31.27</td>\n",
       "      <td>0.51</td>\n",
       "    </tr>\n",
       "    <tr>\n",
       "      <th>2016-12-16 03:30:00</th>\n",
       "      <td>NaN</td>\n",
       "      <td>NaN</td>\n",
       "      <td>NaN</td>\n",
       "      <td>NaN</td>\n",
       "      <td>NaN</td>\n",
       "      <td>NaN</td>\n",
       "      <td>NaN</td>\n",
       "      <td>NaN</td>\n",
       "      <td>NaN</td>\n",
       "      <td>NaN</td>\n",
       "      <td>...</td>\n",
       "      <td>NaN</td>\n",
       "      <td>NaN</td>\n",
       "      <td>NaN</td>\n",
       "      <td>NaN</td>\n",
       "      <td>NaN</td>\n",
       "      <td>NaN</td>\n",
       "      <td>NaN</td>\n",
       "      <td>NaN</td>\n",
       "      <td>NaN</td>\n",
       "      <td>NaN</td>\n",
       "    </tr>\n",
       "  </tbody>\n",
       "</table>\n",
       "<p>5 rows × 28 columns</p>\n",
       "</div>"
      ],
      "text/plain": [
       "                     use [kW]  gen [kW]  House overall [kW]  Dishwasher [kW]  \\\n",
       "2016-12-16 03:26:00  1.599333  0.003233            1.599333         0.000050   \n",
       "2016-12-16 03:27:00  1.924267  0.003217            1.924267         0.000033   \n",
       "2016-12-16 03:28:00  1.978200  0.003217            1.978200         0.000050   \n",
       "2016-12-16 03:29:00  1.990950  0.003233            1.990950         0.000050   \n",
       "2016-12-16 03:30:00       NaN       NaN                 NaN              NaN   \n",
       "\n",
       "                     Furnace 1 [kW]  Furnace 2 [kW]  Home office [kW]  \\\n",
       "2016-12-16 03:26:00        0.104017        0.625033          0.041750   \n",
       "2016-12-16 03:27:00        0.422383        0.637733          0.042033   \n",
       "2016-12-16 03:28:00        0.495667        0.620367          0.042100   \n",
       "2016-12-16 03:29:00        0.494700        0.634133          0.042100   \n",
       "2016-12-16 03:30:00             NaN             NaN               NaN   \n",
       "\n",
       "                     Fridge [kW]  Wine cellar [kW]  Garage door [kW]  ...  \\\n",
       "2016-12-16 03:26:00     0.005233          0.008433          0.013433  ...   \n",
       "2016-12-16 03:27:00     0.004983          0.008467          0.012933  ...   \n",
       "2016-12-16 03:28:00     0.005333          0.008233          0.012817  ...   \n",
       "2016-12-16 03:29:00     0.004917          0.008133          0.012833  ...   \n",
       "2016-12-16 03:30:00          NaN               NaN               NaN  ...   \n",
       "\n",
       "                     temperature  humidity  visibility  apparentTemperature  \\\n",
       "2016-12-16 03:26:00        35.12      0.86        8.74                29.45   \n",
       "2016-12-16 03:27:00        35.12      0.86        8.74                29.45   \n",
       "2016-12-16 03:28:00        35.12      0.86        8.74                29.45   \n",
       "2016-12-16 03:29:00        35.12      0.86        8.74                29.45   \n",
       "2016-12-16 03:30:00          NaN       NaN         NaN                  NaN   \n",
       "\n",
       "                     pressure  windSpeed  windBearing  precipIntensity  \\\n",
       "2016-12-16 03:26:00   1011.49       6.72        186.0           0.0101   \n",
       "2016-12-16 03:27:00   1011.49       6.72        186.0           0.0101   \n",
       "2016-12-16 03:28:00   1011.49       6.72        186.0           0.0101   \n",
       "2016-12-16 03:29:00   1011.49       6.72        186.0           0.0101   \n",
       "2016-12-16 03:30:00       NaN        NaN          NaN              NaN   \n",
       "\n",
       "                     dewPoint  precipProbability  \n",
       "2016-12-16 03:26:00     31.27               0.51  \n",
       "2016-12-16 03:27:00     31.27               0.51  \n",
       "2016-12-16 03:28:00     31.27               0.51  \n",
       "2016-12-16 03:29:00     31.27               0.51  \n",
       "2016-12-16 03:30:00       NaN                NaN  \n",
       "\n",
       "[5 rows x 28 columns]"
      ]
     },
     "execution_count": 48,
     "metadata": {},
     "output_type": "execute_result"
    }
   ],
   "source": [
    "home_dat.head(5)\n",
    "home_dat.tail(5)"
   ]
  },
  {
   "cell_type": "code",
   "execution_count": 49,
   "metadata": {},
   "outputs": [
    {
     "data": {
      "text/plain": [
       "Index(['use', 'gen', 'House overall', 'Dishwasher', 'Furnace 1', 'Furnace 2',\n",
       "       'Home office', 'Fridge', 'Wine cellar', 'Garage door', 'Kitchen 12',\n",
       "       'Kitchen 14', 'Kitchen 38', 'Barn', 'Well', 'Microwave', 'Living room',\n",
       "       'Solar', 'temperature', 'humidity', 'visibility', 'apparentTemperature',\n",
       "       'pressure', 'windSpeed', 'windBearing', 'precipIntensity', 'dewPoint',\n",
       "       'precipProbability'],\n",
       "      dtype='object')"
      ]
     },
     "execution_count": 49,
     "metadata": {},
     "output_type": "execute_result"
    }
   ],
   "source": [
    "home_dat.columns = [col.replace(' [kW]', '') for col in home_dat.columns]\n",
    "home_dat.columns"
   ]
  },
  {
   "cell_type": "code",
   "execution_count": 50,
   "metadata": {},
   "outputs": [],
   "source": [
    "home_dat = home_dat.dropna(axis='columns', how='all')"
   ]
  },
  {
   "cell_type": "code",
   "execution_count": 51,
   "metadata": {},
   "outputs": [
    {
     "data": {
      "text/html": [
       "<div>\n",
       "<style scoped>\n",
       "    .dataframe tbody tr th:only-of-type {\n",
       "        vertical-align: middle;\n",
       "    }\n",
       "\n",
       "    .dataframe tbody tr th {\n",
       "        vertical-align: top;\n",
       "    }\n",
       "\n",
       "    .dataframe thead th {\n",
       "        text-align: right;\n",
       "    }\n",
       "</style>\n",
       "<table border=\"1\" class=\"dataframe\">\n",
       "  <thead>\n",
       "    <tr style=\"text-align: right;\">\n",
       "      <th></th>\n",
       "      <th>use</th>\n",
       "      <th>gen</th>\n",
       "      <th>House overall</th>\n",
       "      <th>Dishwasher</th>\n",
       "      <th>Furnace 1</th>\n",
       "      <th>Furnace 2</th>\n",
       "      <th>Home office</th>\n",
       "      <th>Fridge</th>\n",
       "      <th>Wine cellar</th>\n",
       "      <th>Garage door</th>\n",
       "      <th>...</th>\n",
       "      <th>temperature</th>\n",
       "      <th>humidity</th>\n",
       "      <th>visibility</th>\n",
       "      <th>apparentTemperature</th>\n",
       "      <th>pressure</th>\n",
       "      <th>windSpeed</th>\n",
       "      <th>windBearing</th>\n",
       "      <th>precipIntensity</th>\n",
       "      <th>dewPoint</th>\n",
       "      <th>precipProbability</th>\n",
       "    </tr>\n",
       "  </thead>\n",
       "  <tbody>\n",
       "    <tr>\n",
       "      <th>2016-12-16 03:27:00</th>\n",
       "      <td>1.924267</td>\n",
       "      <td>0.003217</td>\n",
       "      <td>1.924267</td>\n",
       "      <td>0.000033</td>\n",
       "      <td>0.422383</td>\n",
       "      <td>0.637733</td>\n",
       "      <td>0.042033</td>\n",
       "      <td>0.004983</td>\n",
       "      <td>0.008467</td>\n",
       "      <td>0.012933</td>\n",
       "      <td>...</td>\n",
       "      <td>35.12</td>\n",
       "      <td>0.86</td>\n",
       "      <td>8.74</td>\n",
       "      <td>29.45</td>\n",
       "      <td>1011.49</td>\n",
       "      <td>6.72</td>\n",
       "      <td>186.0</td>\n",
       "      <td>0.0101</td>\n",
       "      <td>31.27</td>\n",
       "      <td>0.51</td>\n",
       "    </tr>\n",
       "    <tr>\n",
       "      <th>2016-12-16 03:28:00</th>\n",
       "      <td>1.978200</td>\n",
       "      <td>0.003217</td>\n",
       "      <td>1.978200</td>\n",
       "      <td>0.000050</td>\n",
       "      <td>0.495667</td>\n",
       "      <td>0.620367</td>\n",
       "      <td>0.042100</td>\n",
       "      <td>0.005333</td>\n",
       "      <td>0.008233</td>\n",
       "      <td>0.012817</td>\n",
       "      <td>...</td>\n",
       "      <td>35.12</td>\n",
       "      <td>0.86</td>\n",
       "      <td>8.74</td>\n",
       "      <td>29.45</td>\n",
       "      <td>1011.49</td>\n",
       "      <td>6.72</td>\n",
       "      <td>186.0</td>\n",
       "      <td>0.0101</td>\n",
       "      <td>31.27</td>\n",
       "      <td>0.51</td>\n",
       "    </tr>\n",
       "    <tr>\n",
       "      <th>2016-12-16 03:29:00</th>\n",
       "      <td>1.990950</td>\n",
       "      <td>0.003233</td>\n",
       "      <td>1.990950</td>\n",
       "      <td>0.000050</td>\n",
       "      <td>0.494700</td>\n",
       "      <td>0.634133</td>\n",
       "      <td>0.042100</td>\n",
       "      <td>0.004917</td>\n",
       "      <td>0.008133</td>\n",
       "      <td>0.012833</td>\n",
       "      <td>...</td>\n",
       "      <td>35.12</td>\n",
       "      <td>0.86</td>\n",
       "      <td>8.74</td>\n",
       "      <td>29.45</td>\n",
       "      <td>1011.49</td>\n",
       "      <td>6.72</td>\n",
       "      <td>186.0</td>\n",
       "      <td>0.0101</td>\n",
       "      <td>31.27</td>\n",
       "      <td>0.51</td>\n",
       "    </tr>\n",
       "  </tbody>\n",
       "</table>\n",
       "<p>3 rows × 28 columns</p>\n",
       "</div>"
      ],
      "text/plain": [
       "                          use       gen  House overall  Dishwasher  Furnace 1  \\\n",
       "2016-12-16 03:27:00  1.924267  0.003217       1.924267    0.000033   0.422383   \n",
       "2016-12-16 03:28:00  1.978200  0.003217       1.978200    0.000050   0.495667   \n",
       "2016-12-16 03:29:00  1.990950  0.003233       1.990950    0.000050   0.494700   \n",
       "\n",
       "                     Furnace 2  Home office    Fridge  Wine cellar  \\\n",
       "2016-12-16 03:27:00   0.637733     0.042033  0.004983     0.008467   \n",
       "2016-12-16 03:28:00   0.620367     0.042100  0.005333     0.008233   \n",
       "2016-12-16 03:29:00   0.634133     0.042100  0.004917     0.008133   \n",
       "\n",
       "                     Garage door  ...  temperature  humidity  visibility  \\\n",
       "2016-12-16 03:27:00     0.012933  ...        35.12      0.86        8.74   \n",
       "2016-12-16 03:28:00     0.012817  ...        35.12      0.86        8.74   \n",
       "2016-12-16 03:29:00     0.012833  ...        35.12      0.86        8.74   \n",
       "\n",
       "                     apparentTemperature  pressure  windSpeed  windBearing  \\\n",
       "2016-12-16 03:27:00                29.45   1011.49       6.72        186.0   \n",
       "2016-12-16 03:28:00                29.45   1011.49       6.72        186.0   \n",
       "2016-12-16 03:29:00                29.45   1011.49       6.72        186.0   \n",
       "\n",
       "                     precipIntensity  dewPoint  precipProbability  \n",
       "2016-12-16 03:27:00           0.0101     31.27               0.51  \n",
       "2016-12-16 03:28:00           0.0101     31.27               0.51  \n",
       "2016-12-16 03:29:00           0.0101     31.27               0.51  \n",
       "\n",
       "[3 rows x 28 columns]"
      ]
     },
     "execution_count": 51,
     "metadata": {},
     "output_type": "execute_result"
    }
   ],
   "source": [
    "home_dat = home_dat[0:-1] ## == dataset[0:dataset.shape[0]-1] == dataset[0:len(dataset)-1] == dataset[:-1]\n",
    "home_dat.tail(3)\n"
   ]
  },
  {
   "cell_type": "code",
   "execution_count": 52,
   "metadata": {},
   "outputs": [
    {
     "data": {
      "text/plain": [
       "Index(['use', 'gen', 'House overall', 'Dishwasher', 'Furnace 1', 'Furnace 2',\n",
       "       'Home office', 'Fridge', 'Wine cellar', 'Garage door', 'Kitchen 12',\n",
       "       'Kitchen 14', 'Kitchen 38', 'Barn', 'Well', 'Microwave', 'Living room',\n",
       "       'Solar', 'temperature', 'humidity', 'visibility', 'apparentTemperature',\n",
       "       'pressure', 'windSpeed', 'windBearing', 'precipIntensity', 'dewPoint',\n",
       "       'precipProbability', 'Furnace', 'Kitchen'],\n",
       "      dtype='object')"
      ]
     },
     "execution_count": 52,
     "metadata": {},
     "output_type": "execute_result"
    }
   ],
   "source": [
    "home_dat['Furnace'] = home_dat[['Furnace 1','Furnace 2']].sum(axis=1)\n",
    "home_dat['Kitchen'] = home_dat[['Kitchen 12','Kitchen 14','Kitchen 38']].sum(axis=1)\n",
    "\n",
    "#df['Result'] = df['Column A']/df['Column B']\n",
    "home_dat.columns"
   ]
  },
  {
   "cell_type": "code",
   "execution_count": 53,
   "metadata": {},
   "outputs": [
    {
     "data": {
      "text/html": [
       "<div>\n",
       "<style scoped>\n",
       "    .dataframe tbody tr th:only-of-type {\n",
       "        vertical-align: middle;\n",
       "    }\n",
       "\n",
       "    .dataframe tbody tr th {\n",
       "        vertical-align: top;\n",
       "    }\n",
       "\n",
       "    .dataframe thead th {\n",
       "        text-align: right;\n",
       "    }\n",
       "</style>\n",
       "<table border=\"1\" class=\"dataframe\">\n",
       "  <thead>\n",
       "    <tr style=\"text-align: right;\">\n",
       "      <th></th>\n",
       "      <th>use</th>\n",
       "      <th>gen</th>\n",
       "      <th>House overall</th>\n",
       "      <th>Dishwasher</th>\n",
       "      <th>Furnace 1</th>\n",
       "      <th>Furnace 2</th>\n",
       "      <th>Home office</th>\n",
       "      <th>Fridge</th>\n",
       "      <th>Wine cellar</th>\n",
       "      <th>Garage door</th>\n",
       "      <th>...</th>\n",
       "      <th>visibility</th>\n",
       "      <th>apparentTemperature</th>\n",
       "      <th>pressure</th>\n",
       "      <th>windSpeed</th>\n",
       "      <th>windBearing</th>\n",
       "      <th>precipIntensity</th>\n",
       "      <th>dewPoint</th>\n",
       "      <th>precipProbability</th>\n",
       "      <th>Furnace</th>\n",
       "      <th>Kitchen</th>\n",
       "    </tr>\n",
       "  </thead>\n",
       "  <tbody>\n",
       "    <tr>\n",
       "      <th>count</th>\n",
       "      <td>503910.000000</td>\n",
       "      <td>503910.000000</td>\n",
       "      <td>503910.000000</td>\n",
       "      <td>503910.000000</td>\n",
       "      <td>503910.000000</td>\n",
       "      <td>503910.000000</td>\n",
       "      <td>503910.000000</td>\n",
       "      <td>503910.000000</td>\n",
       "      <td>503910.000000</td>\n",
       "      <td>503910.000000</td>\n",
       "      <td>...</td>\n",
       "      <td>503910.000000</td>\n",
       "      <td>503910.000000</td>\n",
       "      <td>503910.000000</td>\n",
       "      <td>503910.000000</td>\n",
       "      <td>503910.000000</td>\n",
       "      <td>503910.000000</td>\n",
       "      <td>503910.000000</td>\n",
       "      <td>503910.000000</td>\n",
       "      <td>503910.000000</td>\n",
       "      <td>503910.000000</td>\n",
       "    </tr>\n",
       "    <tr>\n",
       "      <th>mean</th>\n",
       "      <td>0.858962</td>\n",
       "      <td>0.076229</td>\n",
       "      <td>0.858962</td>\n",
       "      <td>0.031368</td>\n",
       "      <td>0.099210</td>\n",
       "      <td>0.136779</td>\n",
       "      <td>0.081287</td>\n",
       "      <td>0.063556</td>\n",
       "      <td>0.042137</td>\n",
       "      <td>0.014139</td>\n",
       "      <td>...</td>\n",
       "      <td>9.253444</td>\n",
       "      <td>48.263382</td>\n",
       "      <td>1016.301625</td>\n",
       "      <td>6.649936</td>\n",
       "      <td>202.356843</td>\n",
       "      <td>0.002598</td>\n",
       "      <td>38.694013</td>\n",
       "      <td>0.056453</td>\n",
       "      <td>0.235989</td>\n",
       "      <td>0.009788</td>\n",
       "    </tr>\n",
       "    <tr>\n",
       "      <th>std</th>\n",
       "      <td>1.058207</td>\n",
       "      <td>0.128428</td>\n",
       "      <td>1.058207</td>\n",
       "      <td>0.190951</td>\n",
       "      <td>0.169059</td>\n",
       "      <td>0.178631</td>\n",
       "      <td>0.104466</td>\n",
       "      <td>0.076199</td>\n",
       "      <td>0.057967</td>\n",
       "      <td>0.014292</td>\n",
       "      <td>...</td>\n",
       "      <td>1.611186</td>\n",
       "      <td>22.027916</td>\n",
       "      <td>7.895185</td>\n",
       "      <td>3.982716</td>\n",
       "      <td>106.520474</td>\n",
       "      <td>0.011257</td>\n",
       "      <td>19.087939</td>\n",
       "      <td>0.165836</td>\n",
       "      <td>0.273885</td>\n",
       "      <td>0.079883</td>\n",
       "    </tr>\n",
       "    <tr>\n",
       "      <th>min</th>\n",
       "      <td>0.000000</td>\n",
       "      <td>0.000000</td>\n",
       "      <td>0.000000</td>\n",
       "      <td>0.000000</td>\n",
       "      <td>0.000017</td>\n",
       "      <td>0.000067</td>\n",
       "      <td>0.000083</td>\n",
       "      <td>0.000067</td>\n",
       "      <td>0.000017</td>\n",
       "      <td>0.000017</td>\n",
       "      <td>...</td>\n",
       "      <td>0.270000</td>\n",
       "      <td>-32.080000</td>\n",
       "      <td>986.400000</td>\n",
       "      <td>0.000000</td>\n",
       "      <td>0.000000</td>\n",
       "      <td>0.000000</td>\n",
       "      <td>-27.240000</td>\n",
       "      <td>0.000000</td>\n",
       "      <td>0.000300</td>\n",
       "      <td>0.000000</td>\n",
       "    </tr>\n",
       "    <tr>\n",
       "      <th>25%</th>\n",
       "      <td>0.367667</td>\n",
       "      <td>0.003367</td>\n",
       "      <td>0.367667</td>\n",
       "      <td>0.000000</td>\n",
       "      <td>0.020233</td>\n",
       "      <td>0.064400</td>\n",
       "      <td>0.040383</td>\n",
       "      <td>0.005083</td>\n",
       "      <td>0.007133</td>\n",
       "      <td>0.012733</td>\n",
       "      <td>...</td>\n",
       "      <td>9.420000</td>\n",
       "      <td>31.090000</td>\n",
       "      <td>1011.290000</td>\n",
       "      <td>3.660000</td>\n",
       "      <td>148.000000</td>\n",
       "      <td>0.000000</td>\n",
       "      <td>24.600000</td>\n",
       "      <td>0.000000</td>\n",
       "      <td>0.085300</td>\n",
       "      <td>0.000600</td>\n",
       "    </tr>\n",
       "  </tbody>\n",
       "</table>\n",
       "<p>5 rows × 30 columns</p>\n",
       "</div>"
      ],
      "text/plain": [
       "                 use            gen  House overall     Dishwasher  \\\n",
       "count  503910.000000  503910.000000  503910.000000  503910.000000   \n",
       "mean        0.858962       0.076229       0.858962       0.031368   \n",
       "std         1.058207       0.128428       1.058207       0.190951   \n",
       "min         0.000000       0.000000       0.000000       0.000000   \n",
       "25%         0.367667       0.003367       0.367667       0.000000   \n",
       "\n",
       "           Furnace 1      Furnace 2    Home office         Fridge  \\\n",
       "count  503910.000000  503910.000000  503910.000000  503910.000000   \n",
       "mean        0.099210       0.136779       0.081287       0.063556   \n",
       "std         0.169059       0.178631       0.104466       0.076199   \n",
       "min         0.000017       0.000067       0.000083       0.000067   \n",
       "25%         0.020233       0.064400       0.040383       0.005083   \n",
       "\n",
       "         Wine cellar    Garage door  ...     visibility  apparentTemperature  \\\n",
       "count  503910.000000  503910.000000  ...  503910.000000        503910.000000   \n",
       "mean        0.042137       0.014139  ...       9.253444            48.263382   \n",
       "std         0.057967       0.014292  ...       1.611186            22.027916   \n",
       "min         0.000017       0.000017  ...       0.270000           -32.080000   \n",
       "25%         0.007133       0.012733  ...       9.420000            31.090000   \n",
       "\n",
       "            pressure      windSpeed    windBearing  precipIntensity  \\\n",
       "count  503910.000000  503910.000000  503910.000000    503910.000000   \n",
       "mean     1016.301625       6.649936     202.356843         0.002598   \n",
       "std         7.895185       3.982716     106.520474         0.011257   \n",
       "min       986.400000       0.000000       0.000000         0.000000   \n",
       "25%      1011.290000       3.660000     148.000000         0.000000   \n",
       "\n",
       "            dewPoint  precipProbability        Furnace        Kitchen  \n",
       "count  503910.000000      503910.000000  503910.000000  503910.000000  \n",
       "mean       38.694013           0.056453       0.235989       0.009788  \n",
       "std        19.087939           0.165836       0.273885       0.079883  \n",
       "min       -27.240000           0.000000       0.000300       0.000000  \n",
       "25%        24.600000           0.000000       0.085300       0.000600  \n",
       "\n",
       "[5 rows x 30 columns]"
      ]
     },
     "execution_count": 53,
     "metadata": {},
     "output_type": "execute_result"
    }
   ],
   "source": [
    "DescriptiveStats=home_dat.describe()\n",
    "DescriptiveStats.head()"
   ]
  },
  {
   "cell_type": "code",
   "execution_count": 54,
   "metadata": {},
   "outputs": [],
   "source": [
    "CleanData = home_dat.filter(items=[ 'gen', 'use', 'House overall', \n",
    "                               'Furnace', 'Home office',  'Living room',\n",
    "                               'Wine cellar', 'Garage door', 'Kitchen',\n",
    "                               'Barn', 'Well', 'Fridge', 'Microwave', 'Dishwasher',\n",
    "                               'temperature', 'humidity', \n",
    "                               'visibility', 'apparentTemperature',\n",
    "                               'pressure', 'windSpeed', 'windBearing', 'precipIntensity', 'dewPoint'])"
   ]
  },
  {
   "cell_type": "code",
   "execution_count": 55,
   "metadata": {},
   "outputs": [],
   "source": [
    "WeatherData= home_dat.filter(items=[ 'gen', 'temperature', 'humidity', \n",
    "                               'visibility', 'apparentTemperature',\n",
    "                               'pressure', 'windSpeed', 'windBearing', 'precipIntensity', 'dewPoint'])"
   ]
  },
  {
   "cell_type": "code",
   "execution_count": 56,
   "metadata": {},
   "outputs": [],
   "source": [
    "RoomsData = home_dat.filter(items=[ 'gen', 'House overall', \n",
    "                               'Furnace', 'Home office',  'Living room',\n",
    "                               'Wine cellar', 'Garage door', 'Kitchen',\n",
    "                               'Barn', 'Well', 'Fridge', 'Microwave', 'Dishwasher'])"
   ]
  },
  {
   "cell_type": "code",
   "execution_count": 57,
   "metadata": {},
   "outputs": [],
   "source": [
    "home_dat['EneEffi'] = home_dat['use']-home_dat['gen']"
   ]
  },
  {
   "cell_type": "code",
   "execution_count": 58,
   "metadata": {},
   "outputs": [],
   "source": [
    "EnergyData = home_dat.filter(items=['EneEffi', 'gen', 'use', 'House overall'])"
   ]
  },
  {
   "cell_type": "code",
   "execution_count": 59,
   "metadata": {},
   "outputs": [
    {
     "data": {
      "text/html": [
       "<div>\n",
       "<style scoped>\n",
       "    .dataframe tbody tr th:only-of-type {\n",
       "        vertical-align: middle;\n",
       "    }\n",
       "\n",
       "    .dataframe tbody tr th {\n",
       "        vertical-align: top;\n",
       "    }\n",
       "\n",
       "    .dataframe thead th {\n",
       "        text-align: right;\n",
       "    }\n",
       "</style>\n",
       "<table border=\"1\" class=\"dataframe\">\n",
       "  <thead>\n",
       "    <tr style=\"text-align: right;\">\n",
       "      <th></th>\n",
       "      <th>EneEffi</th>\n",
       "      <th>gen</th>\n",
       "      <th>use</th>\n",
       "      <th>House overall</th>\n",
       "    </tr>\n",
       "  </thead>\n",
       "  <tbody>\n",
       "    <tr>\n",
       "      <th>2016-12-16 03:27:00</th>\n",
       "      <td>1.921050</td>\n",
       "      <td>0.003217</td>\n",
       "      <td>1.924267</td>\n",
       "      <td>1.924267</td>\n",
       "    </tr>\n",
       "    <tr>\n",
       "      <th>2016-12-16 03:28:00</th>\n",
       "      <td>1.974983</td>\n",
       "      <td>0.003217</td>\n",
       "      <td>1.978200</td>\n",
       "      <td>1.978200</td>\n",
       "    </tr>\n",
       "    <tr>\n",
       "      <th>2016-12-16 03:29:00</th>\n",
       "      <td>1.987717</td>\n",
       "      <td>0.003233</td>\n",
       "      <td>1.990950</td>\n",
       "      <td>1.990950</td>\n",
       "    </tr>\n",
       "  </tbody>\n",
       "</table>\n",
       "</div>"
      ],
      "text/plain": [
       "                      EneEffi       gen       use  House overall\n",
       "2016-12-16 03:27:00  1.921050  0.003217  1.924267       1.924267\n",
       "2016-12-16 03:28:00  1.974983  0.003217  1.978200       1.978200\n",
       "2016-12-16 03:29:00  1.987717  0.003233  1.990950       1.990950"
      ]
     },
     "execution_count": 59,
     "metadata": {},
     "output_type": "execute_result"
    }
   ],
   "source": [
    "EnergyData.tail(3)"
   ]
  },
  {
   "cell_type": "code",
   "execution_count": 60,
   "metadata": {},
   "outputs": [],
   "source": [
    "# Summaries\n",
    "# Generate Data per (day) and (month) \n",
    "CleanData_per_day = CleanData.resample('D').sum()\n",
    "WeatherData_per_day = WeatherData.resample('D').sum()\n",
    "RoomsData_per_day = WeatherData.resample('D').sum()\n",
    "EnergyData_per_day = WeatherData.resample('D').sum()\n",
    "\n",
    "CleanData_per_month = CleanData.resample('M').sum()\n",
    "WeatherData_per_month = WeatherData.resample('M').sum()\n",
    "RoomsData_per_month = WeatherData.resample('M').sum()\n",
    "EnergyData_per_month = WeatherData.resample('M').sum()\n",
    "\n",
    "\n"
   ]
  },
  {
   "cell_type": "code",
   "execution_count": 22,
   "metadata": {},
   "outputs": [],
   "source": [
    "# Save Data to Directory\n",
    "CleanData.to_csv(r'CleanData.csv')\n",
    "EnergyData.to_csv(r'EnergyData.csv')\n",
    "RoomsData.to_csv(r'RoomsData.csv')\n",
    "WeatherData.to_csv(r'WeatherData.csv')"
   ]
  },
  {
   "cell_type": "code",
   "execution_count": 23,
   "metadata": {},
   "outputs": [
    {
     "data": {
      "text/plain": [
       "gen                    float64\n",
       "use                    float64\n",
       "House overall          float64\n",
       "Furnace                float64\n",
       "Home office            float64\n",
       "Living room            float64\n",
       "Wine cellar            float64\n",
       "Garage door            float64\n",
       "Kitchen                float64\n",
       "Barn                   float64\n",
       "Well                   float64\n",
       "Fridge                 float64\n",
       "Microwave              float64\n",
       "Dishwasher             float64\n",
       "temperature            float64\n",
       "humidity               float64\n",
       "visibility             float64\n",
       "apparentTemperature    float64\n",
       "pressure               float64\n",
       "windSpeed              float64\n",
       "windBearing            float64\n",
       "precipIntensity        float64\n",
       "dewPoint               float64\n",
       "dtype: object"
      ]
     },
     "execution_count": 23,
     "metadata": {},
     "output_type": "execute_result"
    }
   ],
   "source": [
    "# Data Preparation\n",
    "CleanData_per_month.columns\n",
    "CleanData_per_month.dtypes \n",
    "#CleanData.tail()"
   ]
  },
  {
   "cell_type": "code",
   "execution_count": 24,
   "metadata": {},
   "outputs": [
    {
     "data": {
      "text/plain": [
       "Index(['gen', 'use', 'House overall', 'Furnace', 'Home office', 'Living room',\n",
       "       'Wine cellar', 'Garage door', 'Kitchen', 'Barn', 'Well', 'Fridge',\n",
       "       'Microwave', 'Dishwasher', 'temperature', 'humidity', 'visibility',\n",
       "       'apparentTemperature', 'pressure', 'windSpeed', 'windBearing',\n",
       "       'precipIntensity', 'dewPoint'],\n",
       "      dtype='object')"
      ]
     },
     "execution_count": 24,
     "metadata": {},
     "output_type": "execute_result"
    }
   ],
   "source": [
    "# Running RF with all the data to investigate the driving variables of energy efficiency at a 1min resolution\n",
    "#my_data.dtypes \n",
    "features=CleanData_per_month\n",
    "type(features)\n",
    "#features.iloc[:,5:].head(5)\n",
    "#features.head(5)\n",
    "#features.info()\n",
    "features.columns"
   ]
  },
  {
   "cell_type": "code",
   "execution_count": 25,
   "metadata": {},
   "outputs": [],
   "source": [
    "# Labels are the values we want to predict\n",
    "labels = np.array(features['gen'])\n",
    "# Remove the labels from the features\n",
    "# axis 1 refers to the columns\n",
    "features= features.drop('gen', axis = 1)\n",
    "# Saving feature names for later use\n",
    "feature_list = list(features.columns)\n",
    "# Convert to numpy array\n",
    "features = np.array(features)"
   ]
  },
  {
   "cell_type": "code",
   "execution_count": 26,
   "metadata": {},
   "outputs": [],
   "source": [
    "# Training and Testing Sets\n",
    "# Using Skicit-learn to split data into training and testing sets\n",
    "from sklearn.model_selection import train_test_split\n",
    "# Split the data into training and testing sets\n",
    "train_features, test_features, train_labels, test_labels = train_test_split(features, labels, test_size = 0.25, random_state = 100)"
   ]
  },
  {
   "cell_type": "code",
   "execution_count": 27,
   "metadata": {},
   "outputs": [
    {
     "name": "stdout",
     "output_type": "stream",
     "text": [
      "Training Features Shape: (9, 22)\n",
      "Training Labels Shape: (9,)\n",
      "Testing Features Shape: (3, 22)\n",
      "Testing Labels Shape: (3,)\n"
     ]
    }
   ],
   "source": [
    "print('Training Features Shape:', train_features.shape)\n",
    "print('Training Labels Shape:', train_labels.shape)\n",
    "print('Testing Features Shape:', test_features.shape)\n",
    "print('Testing Labels Shape:', test_labels.shape)"
   ]
  },
  {
   "cell_type": "code",
   "execution_count": 28,
   "metadata": {},
   "outputs": [
    {
     "data": {
      "text/plain": [
       "<function list.index(value, start=0, stop=9223372036854775807, /)>"
      ]
     },
     "execution_count": 28,
     "metadata": {},
     "output_type": "execute_result"
    }
   ],
   "source": [
    "feature_list.index"
   ]
  },
  {
   "cell_type": "code",
   "execution_count": 29,
   "metadata": {},
   "outputs": [],
   "source": [
    "# Import the model we are using\n",
    "from sklearn.ensemble import RandomForestRegressor\n",
    "# Instantiate model with 10 decision trees\n",
    "#rf = RandomForestRegressor(n_estimators = 100, random_state = 100)\n",
    "rf = RandomForestRegressor(n_estimators = 100, random_state = 100)\n",
    "# Train the model on training data\n",
    "rf.fit(train_features, train_labels);"
   ]
  },
  {
   "cell_type": "code",
   "execution_count": 30,
   "metadata": {},
   "outputs": [
    {
     "name": "stdout",
     "output_type": "stream",
     "text": [
      "Mean Absolute Error: 540.33 degrees.\n"
     ]
    }
   ],
   "source": [
    "# Use the forest's predict method on the test data\n",
    "predictions = rf.predict(test_features)\n",
    "# Calculate the absolute errors\n",
    "errors = abs(predictions - test_labels)\n",
    "# Print out the mean absolute error (mae)\n",
    "print('Mean Absolute Error:', round(np.mean(errors), 2), 'degrees.')\n",
    "#Mean Absolute Error: 8512.05 degrees"
   ]
  },
  {
   "cell_type": "code",
   "execution_count": 31,
   "metadata": {},
   "outputs": [
    {
     "name": "stdout",
     "output_type": "stream",
     "text": [
      "Accuracy: 78.79 %.\n"
     ]
    }
   ],
   "source": [
    "# Calculate mean absolute percentage error (MAPE)\n",
    "mape = 100 * (errors / test_labels)\n",
    "# Calculate and display accuracy\n",
    "accuracy = 100 - np.mean(mape)\n",
    "print('Accuracy:', round(accuracy, 2), '%.')\n",
    "#Accuracy: 95.96 %.\n",
    "    # That looks pretty good! Our model has learned how to predict the List price as a function of list and close price in Houston with 95.96% accuracy."
   ]
  },
  {
   "cell_type": "code",
   "execution_count": 61,
   "metadata": {},
   "outputs": [
    {
     "ename": "NameError",
     "evalue": "name 'all_energy_effi' is not defined",
     "output_type": "error",
     "traceback": [
      "\u001b[1;31m---------------------------------------------------------------------------\u001b[0m",
      "\u001b[1;31mNameError\u001b[0m                                 Traceback (most recent call last)",
      "\u001b[1;32md:\\Projects\\IOT_SmartHome\\Smart-homes-and-weather_Evaluating-energy-use-efficiency--master\\Machine Learning_Random ForestV2.ipynb Cell 31\u001b[0m in \u001b[0;36m1\n\u001b[1;32m----> <a href='vscode-notebook-cell:/d%3A/Projects/IOT_SmartHome/Smart-homes-and-weather_Evaluating-energy-use-efficiency--master/Machine%20Learning_Random%20ForestV2.ipynb#X42sZmlsZQ%3D%3D?line=0'>1</a>\u001b[0m plot \u001b[39m=\u001b[39m all_energy_effi\u001b[39m.\u001b[39mplot(kind \u001b[39m=\u001b[39m \u001b[39m\"\u001b[39m\u001b[39mbar\u001b[39m\u001b[39m\"\u001b[39m, figsize \u001b[39m=\u001b[39m (\u001b[39m5\u001b[39m,\u001b[39m5\u001b[39m))\n\u001b[0;32m      <a href='vscode-notebook-cell:/d%3A/Projects/IOT_SmartHome/Smart-homes-and-weather_Evaluating-energy-use-efficiency--master/Machine%20Learning_Random%20ForestV2.ipynb#X42sZmlsZQ%3D%3D?line=1'>2</a>\u001b[0m plot\u001b[39m.\u001b[39mset_title(\u001b[39m\"\u001b[39m\u001b[39menergy efficiency\u001b[39m\u001b[39m\"\u001b[39m)\n",
      "\u001b[1;31mNameError\u001b[0m: name 'all_energy_effi' is not defined"
     ]
    }
   ],
   "source": [
    "plot = all_energy_effi.plot(kind = \"bar\", figsize = (5,5))\n",
    "plot.set_title(\"energy efficiency\")"
   ]
  },
  {
   "cell_type": "code",
   "execution_count": 35,
   "metadata": {},
   "outputs": [
    {
     "name": "stdout",
     "output_type": "stream",
     "text": [
      "Collecting pydot\n",
      "  Downloading pydot-1.4.2-py2.py3-none-any.whl (21 kB)\n",
      "Requirement already satisfied: pyparsing>=2.1.4 in c:\\python310\\lib\\site-packages (from pydot) (3.0.8)\n",
      "Installing collected packages: pydot\n",
      "Successfully installed pydot-1.4.2\n"
     ]
    },
    {
     "name": "stderr",
     "output_type": "stream",
     "text": [
      "\n",
      "[notice] A new release of pip available: 22.3.1 -> 23.0.1\n",
      "[notice] To update, run: python.exe -m pip install --upgrade pip\n"
     ]
    },
    {
     "name": "stdout",
     "output_type": "stream",
     "text": [
      "Collecting graphviz\n",
      "  Downloading graphviz-0.20.1-py3-none-any.whl (47 kB)\n",
      "     -------------------------------------- 47.0/47.0 kB 138.3 kB/s eta 0:00:00\n",
      "Installing collected packages: graphviz\n",
      "Successfully installed graphviz-0.20.1\n"
     ]
    },
    {
     "name": "stderr",
     "output_type": "stream",
     "text": [
      "\n",
      "[notice] A new release of pip available: 22.3.1 -> 23.0.1\n",
      "[notice] To update, run: python.exe -m pip install --upgrade pip\n"
     ]
    }
   ],
   "source": [
    "!pip install pydot\n",
    "!pip install graphviz"
   ]
  },
  {
   "cell_type": "code",
   "execution_count": 36,
   "metadata": {},
   "outputs": [],
   "source": [
    "# What are the variables that regulate power generation?\n",
    "# Import tools needed for visualization\n",
    "from sklearn.tree import export_graphviz\n",
    "import pydot\n",
    "# Pull out one tree from the forest\n",
    "tree = rf.estimators_[5]"
   ]
  },
  {
   "cell_type": "code",
   "execution_count": 37,
   "metadata": {},
   "outputs": [],
   "source": [
    "# Import tools needed for visualization\n",
    "from sklearn.tree import export_graphviz\n",
    "import pydot\n",
    "# Pull out one tree from the forest\n",
    "tree = rf.estimators_[5]"
   ]
  },
  {
   "cell_type": "code",
   "execution_count": 40,
   "metadata": {},
   "outputs": [
    {
     "ename": "FileNotFoundError",
     "evalue": "[WinError 2] \"dot\" not found in path.",
     "output_type": "error",
     "traceback": [
      "\u001b[1;31m---------------------------------------------------------------------------\u001b[0m",
      "\u001b[1;31mFileNotFoundError\u001b[0m                         Traceback (most recent call last)",
      "File \u001b[1;32mc:\\Python310\\lib\\site-packages\\pydot.py:1923\u001b[0m, in \u001b[0;36mDot.create\u001b[1;34m(self, prog, format, encoding)\u001b[0m\n\u001b[0;32m   1922\u001b[0m \u001b[39mtry\u001b[39;00m:\n\u001b[1;32m-> 1923\u001b[0m     stdout_data, stderr_data, process \u001b[39m=\u001b[39m call_graphviz(\n\u001b[0;32m   1924\u001b[0m         program\u001b[39m=\u001b[39;49mprog,\n\u001b[0;32m   1925\u001b[0m         arguments\u001b[39m=\u001b[39;49marguments,\n\u001b[0;32m   1926\u001b[0m         working_dir\u001b[39m=\u001b[39;49mtmp_dir,\n\u001b[0;32m   1927\u001b[0m     )\n\u001b[0;32m   1928\u001b[0m \u001b[39mexcept\u001b[39;00m \u001b[39mOSError\u001b[39;00m \u001b[39mas\u001b[39;00m e:\n",
      "File \u001b[1;32mc:\\Python310\\lib\\site-packages\\pydot.py:132\u001b[0m, in \u001b[0;36mcall_graphviz\u001b[1;34m(program, arguments, working_dir, **kwargs)\u001b[0m\n\u001b[0;32m    130\u001b[0m program_with_args \u001b[39m=\u001b[39m [program, ] \u001b[39m+\u001b[39m arguments\n\u001b[1;32m--> 132\u001b[0m process \u001b[39m=\u001b[39m subprocess\u001b[39m.\u001b[39mPopen(\n\u001b[0;32m    133\u001b[0m     program_with_args,\n\u001b[0;32m    134\u001b[0m     env\u001b[39m=\u001b[39menv,\n\u001b[0;32m    135\u001b[0m     cwd\u001b[39m=\u001b[39mworking_dir,\n\u001b[0;32m    136\u001b[0m     shell\u001b[39m=\u001b[39m\u001b[39mFalse\u001b[39;00m,\n\u001b[0;32m    137\u001b[0m     stderr\u001b[39m=\u001b[39msubprocess\u001b[39m.\u001b[39mPIPE,\n\u001b[0;32m    138\u001b[0m     stdout\u001b[39m=\u001b[39msubprocess\u001b[39m.\u001b[39mPIPE,\n\u001b[0;32m    139\u001b[0m     \u001b[39m*\u001b[39m\u001b[39m*\u001b[39mkwargs\n\u001b[0;32m    140\u001b[0m )\n\u001b[0;32m    141\u001b[0m stdout_data, stderr_data \u001b[39m=\u001b[39m process\u001b[39m.\u001b[39mcommunicate()\n",
      "File \u001b[1;32mc:\\Python310\\lib\\subprocess.py:966\u001b[0m, in \u001b[0;36mPopen.__init__\u001b[1;34m(self, args, bufsize, executable, stdin, stdout, stderr, preexec_fn, close_fds, shell, cwd, env, universal_newlines, startupinfo, creationflags, restore_signals, start_new_session, pass_fds, user, group, extra_groups, encoding, errors, text, umask, pipesize)\u001b[0m\n\u001b[0;32m    963\u001b[0m             \u001b[39mself\u001b[39m\u001b[39m.\u001b[39mstderr \u001b[39m=\u001b[39m io\u001b[39m.\u001b[39mTextIOWrapper(\u001b[39mself\u001b[39m\u001b[39m.\u001b[39mstderr,\n\u001b[0;32m    964\u001b[0m                     encoding\u001b[39m=\u001b[39mencoding, errors\u001b[39m=\u001b[39merrors)\n\u001b[1;32m--> 966\u001b[0m     \u001b[39mself\u001b[39;49m\u001b[39m.\u001b[39;49m_execute_child(args, executable, preexec_fn, close_fds,\n\u001b[0;32m    967\u001b[0m                         pass_fds, cwd, env,\n\u001b[0;32m    968\u001b[0m                         startupinfo, creationflags, shell,\n\u001b[0;32m    969\u001b[0m                         p2cread, p2cwrite,\n\u001b[0;32m    970\u001b[0m                         c2pread, c2pwrite,\n\u001b[0;32m    971\u001b[0m                         errread, errwrite,\n\u001b[0;32m    972\u001b[0m                         restore_signals,\n\u001b[0;32m    973\u001b[0m                         gid, gids, uid, umask,\n\u001b[0;32m    974\u001b[0m                         start_new_session)\n\u001b[0;32m    975\u001b[0m \u001b[39mexcept\u001b[39;00m:\n\u001b[0;32m    976\u001b[0m     \u001b[39m# Cleanup if the child failed starting.\u001b[39;00m\n",
      "File \u001b[1;32mc:\\Python310\\lib\\subprocess.py:1435\u001b[0m, in \u001b[0;36mPopen._execute_child\u001b[1;34m(self, args, executable, preexec_fn, close_fds, pass_fds, cwd, env, startupinfo, creationflags, shell, p2cread, p2cwrite, c2pread, c2pwrite, errread, errwrite, unused_restore_signals, unused_gid, unused_gids, unused_uid, unused_umask, unused_start_new_session)\u001b[0m\n\u001b[0;32m   1434\u001b[0m \u001b[39mtry\u001b[39;00m:\n\u001b[1;32m-> 1435\u001b[0m     hp, ht, pid, tid \u001b[39m=\u001b[39m _winapi\u001b[39m.\u001b[39;49mCreateProcess(executable, args,\n\u001b[0;32m   1436\u001b[0m                              \u001b[39m# no special security\u001b[39;49;00m\n\u001b[0;32m   1437\u001b[0m                              \u001b[39mNone\u001b[39;49;00m, \u001b[39mNone\u001b[39;49;00m,\n\u001b[0;32m   1438\u001b[0m                              \u001b[39mint\u001b[39;49m(\u001b[39mnot\u001b[39;49;00m close_fds),\n\u001b[0;32m   1439\u001b[0m                              creationflags,\n\u001b[0;32m   1440\u001b[0m                              env,\n\u001b[0;32m   1441\u001b[0m                              cwd,\n\u001b[0;32m   1442\u001b[0m                              startupinfo)\n\u001b[0;32m   1443\u001b[0m \u001b[39mfinally\u001b[39;00m:\n\u001b[0;32m   1444\u001b[0m     \u001b[39m# Child is launched. Close the parent's copy of those pipe\u001b[39;00m\n\u001b[0;32m   1445\u001b[0m     \u001b[39m# handles that only the child should have open.  You need\u001b[39;00m\n\u001b[1;32m   (...)\u001b[0m\n\u001b[0;32m   1448\u001b[0m     \u001b[39m# pipe will not close when the child process exits and the\u001b[39;00m\n\u001b[0;32m   1449\u001b[0m     \u001b[39m# ReadFile will hang.\u001b[39;00m\n",
      "\u001b[1;31mFileNotFoundError\u001b[0m: [WinError 2] The system cannot find the file specified",
      "\nDuring handling of the above exception, another exception occurred:\n",
      "\u001b[1;31mFileNotFoundError\u001b[0m                         Traceback (most recent call last)",
      "\u001b[1;32md:\\Projects\\IOT_SmartHome\\Smart-homes-and-weather_Evaluating-energy-use-efficiency--master\\Machine Learning_Random ForestV2.ipynb Cell 35\u001b[0m in \u001b[0;36m6\n\u001b[0;32m      <a href='vscode-notebook-cell:/d%3A/Projects/IOT_SmartHome/Smart-homes-and-weather_Evaluating-energy-use-efficiency--master/Machine%20Learning_Random%20ForestV2.ipynb#X45sZmlsZQ%3D%3D?line=3'>4</a>\u001b[0m (graph, ) \u001b[39m=\u001b[39m pydot\u001b[39m.\u001b[39mgraph_from_dot_file(\u001b[39m'\u001b[39m\u001b[39mtree\u001b[39m\u001b[39m'\u001b[39m)\n\u001b[0;32m      <a href='vscode-notebook-cell:/d%3A/Projects/IOT_SmartHome/Smart-homes-and-weather_Evaluating-energy-use-efficiency--master/Machine%20Learning_Random%20ForestV2.ipynb#X45sZmlsZQ%3D%3D?line=4'>5</a>\u001b[0m \u001b[39m# Write graph to a png file\u001b[39;00m\n\u001b[1;32m----> <a href='vscode-notebook-cell:/d%3A/Projects/IOT_SmartHome/Smart-homes-and-weather_Evaluating-energy-use-efficiency--master/Machine%20Learning_Random%20ForestV2.ipynb#X45sZmlsZQ%3D%3D?line=5'>6</a>\u001b[0m graph\u001b[39m.\u001b[39;49mwrite_png(\u001b[39m'\u001b[39;49m\u001b[39mtree.png\u001b[39;49m\u001b[39m'\u001b[39;49m)\n",
      "File \u001b[1;32mc:\\Python310\\lib\\site-packages\\pydot.py:1743\u001b[0m, in \u001b[0;36mDot.__init__.<locals>.new_method\u001b[1;34m(path, f, prog, encoding)\u001b[0m\n\u001b[0;32m   1739\u001b[0m \u001b[39mdef\u001b[39;00m \u001b[39mnew_method\u001b[39m(\n\u001b[0;32m   1740\u001b[0m         path, f\u001b[39m=\u001b[39mfrmt, prog\u001b[39m=\u001b[39m\u001b[39mself\u001b[39m\u001b[39m.\u001b[39mprog,\n\u001b[0;32m   1741\u001b[0m         encoding\u001b[39m=\u001b[39m\u001b[39mNone\u001b[39;00m):\n\u001b[0;32m   1742\u001b[0m     \u001b[39m\"\"\"Refer to docstring of method `write.`\"\"\"\u001b[39;00m\n\u001b[1;32m-> 1743\u001b[0m     \u001b[39mself\u001b[39;49m\u001b[39m.\u001b[39;49mwrite(\n\u001b[0;32m   1744\u001b[0m         path, \u001b[39mformat\u001b[39;49m\u001b[39m=\u001b[39;49mf, prog\u001b[39m=\u001b[39;49mprog,\n\u001b[0;32m   1745\u001b[0m         encoding\u001b[39m=\u001b[39;49mencoding)\n",
      "File \u001b[1;32mc:\\Python310\\lib\\site-packages\\pydot.py:1828\u001b[0m, in \u001b[0;36mDot.write\u001b[1;34m(self, path, prog, format, encoding)\u001b[0m\n\u001b[0;32m   1826\u001b[0m         f\u001b[39m.\u001b[39mwrite(s)\n\u001b[0;32m   1827\u001b[0m \u001b[39melse\u001b[39;00m:\n\u001b[1;32m-> 1828\u001b[0m     s \u001b[39m=\u001b[39m \u001b[39mself\u001b[39;49m\u001b[39m.\u001b[39;49mcreate(prog, \u001b[39mformat\u001b[39;49m, encoding\u001b[39m=\u001b[39;49mencoding)\n\u001b[0;32m   1829\u001b[0m     \u001b[39mwith\u001b[39;00m io\u001b[39m.\u001b[39mopen(path, mode\u001b[39m=\u001b[39m\u001b[39m'\u001b[39m\u001b[39mwb\u001b[39m\u001b[39m'\u001b[39m) \u001b[39mas\u001b[39;00m f:\n\u001b[0;32m   1830\u001b[0m         f\u001b[39m.\u001b[39mwrite(s)\n",
      "File \u001b[1;32mc:\\Python310\\lib\\site-packages\\pydot.py:1933\u001b[0m, in \u001b[0;36mDot.create\u001b[1;34m(self, prog, format, encoding)\u001b[0m\n\u001b[0;32m   1930\u001b[0m     args \u001b[39m=\u001b[39m \u001b[39mlist\u001b[39m(e\u001b[39m.\u001b[39margs)\n\u001b[0;32m   1931\u001b[0m     args[\u001b[39m1\u001b[39m] \u001b[39m=\u001b[39m \u001b[39m'\u001b[39m\u001b[39m\"\u001b[39m\u001b[39m{prog}\u001b[39;00m\u001b[39m\"\u001b[39m\u001b[39m not found in path.\u001b[39m\u001b[39m'\u001b[39m\u001b[39m.\u001b[39mformat(\n\u001b[0;32m   1932\u001b[0m         prog\u001b[39m=\u001b[39mprog)\n\u001b[1;32m-> 1933\u001b[0m     \u001b[39mraise\u001b[39;00m \u001b[39mOSError\u001b[39;00m(\u001b[39m*\u001b[39margs)\n\u001b[0;32m   1934\u001b[0m \u001b[39melse\u001b[39;00m:\n\u001b[0;32m   1935\u001b[0m     \u001b[39mraise\u001b[39;00m\n",
      "\u001b[1;31mFileNotFoundError\u001b[0m: [WinError 2] \"dot\" not found in path."
     ]
    }
   ],
   "source": [
    "# Export the image to a dot file\n",
    "export_graphviz(tree, out_file = 'tree', feature_names = feature_list, rounded = True, precision = 1)\n",
    "# Use dot file to create a graph\n",
    "(graph, ) = pydot.graph_from_dot_file('tree')\n",
    "# Write graph to a png file\n",
    "graph.write_png('tree.png')"
   ]
  },
  {
   "cell_type": "code",
   "execution_count": 41,
   "metadata": {},
   "outputs": [
    {
     "name": "stdout",
     "output_type": "stream",
     "text": [
      "Variable: temperature          Importance: 0.16\n",
      "Variable: dewPoint             Importance: 0.16\n",
      "Variable: Wine cellar          Importance: 0.11\n",
      "Variable: apparentTemperature  Importance: 0.09\n",
      "Variable: Garage door          Importance: 0.07\n",
      "Variable: Kitchen              Importance: 0.04\n",
      "Variable: pressure             Importance: 0.04\n",
      "Variable: use                  Importance: 0.03\n",
      "Variable: Living room          Importance: 0.03\n",
      "Variable: Fridge               Importance: 0.03\n",
      "Variable: Microwave            Importance: 0.03\n",
      "Variable: Dishwasher           Importance: 0.03\n",
      "Variable: visibility           Importance: 0.03\n",
      "Variable: precipIntensity      Importance: 0.03\n",
      "Variable: Home office          Importance: 0.02\n",
      "Variable: Barn                 Importance: 0.02\n",
      "Variable: windSpeed            Importance: 0.02\n",
      "Variable: windBearing          Importance: 0.02\n",
      "Variable: House overall        Importance: 0.01\n",
      "Variable: Furnace              Importance: 0.01\n",
      "Variable: Well                 Importance: 0.01\n",
      "Variable: humidity             Importance: 0.01\n"
     ]
    }
   ],
   "source": [
    "# Get numerical feature importances\n",
    "importances = list(rf.feature_importances_)\n",
    "# List of tuples with variable and importance\n",
    "feature_importances = [(feature, round(importance, 2)) for feature, importance in zip(feature_list, importances)]\n",
    "# Sort the feature importances by most important first\n",
    "feature_importances = sorted(feature_importances, key = lambda x: x[1], reverse = True)\n",
    "# Print out the feature and importances \n",
    "[print('Variable: {:20} Importance: {}'.format(*pair)) for pair in feature_importances];"
   ]
  },
  {
   "cell_type": "code",
   "execution_count": 42,
   "metadata": {},
   "outputs": [
    {
     "ename": "AttributeError",
     "evalue": "'list' object has no attribute 'plot'",
     "output_type": "error",
     "traceback": [
      "\u001b[1;31m---------------------------------------------------------------------------\u001b[0m",
      "\u001b[1;31mAttributeError\u001b[0m                            Traceback (most recent call last)",
      "\u001b[1;32md:\\Projects\\IOT_SmartHome\\Smart-homes-and-weather_Evaluating-energy-use-efficiency--master\\Machine Learning_Random ForestV2.ipynb Cell 37\u001b[0m in \u001b[0;36m2\n\u001b[0;32m      <a href='vscode-notebook-cell:/d%3A/Projects/IOT_SmartHome/Smart-homes-and-weather_Evaluating-energy-use-efficiency--master/Machine%20Learning_Random%20ForestV2.ipynb#X50sZmlsZQ%3D%3D?line=0'>1</a>\u001b[0m plt\u001b[39m.\u001b[39mfigure();\n\u001b[1;32m----> <a href='vscode-notebook-cell:/d%3A/Projects/IOT_SmartHome/Smart-homes-and-weather_Evaluating-energy-use-efficiency--master/Machine%20Learning_Random%20ForestV2.ipynb#X50sZmlsZQ%3D%3D?line=1'>2</a>\u001b[0m feature_importances\u001b[39m.\u001b[39;49mplot()\n",
      "\u001b[1;31mAttributeError\u001b[0m: 'list' object has no attribute 'plot'"
     ]
    },
    {
     "data": {
      "text/plain": [
       "<Figure size 640x480 with 0 Axes>"
      ]
     },
     "metadata": {},
     "output_type": "display_data"
    }
   ],
   "source": [
    "plt.figure();\n",
    "feature_importances.plot();"
   ]
  },
  {
   "cell_type": "code",
   "execution_count": 43,
   "metadata": {},
   "outputs": [
    {
     "name": "stdout",
     "output_type": "stream",
     "text": [
      "Mean Absolute Error: 590.74 degrees.\n",
      "Accuracy: 76.45 %.\n"
     ]
    }
   ],
   "source": [
    "# New random forest with only the two most important variables\n",
    "rf_most_important = RandomForestRegressor(n_estimators= 1000, random_state=1000)\n",
    "# Extract the two most important features\n",
    "important_indices = [feature_list.index('temperature'), feature_list.index('dewPoint')]\n",
    "train_important = train_features[:, important_indices]\n",
    "test_important = test_features[:, important_indices]\n",
    "# Train the random forest\n",
    "rf_most_important.fit(train_important, train_labels)\n",
    "# Make predictions and determine the error\n",
    "predictions = rf_most_important.predict(test_important)\n",
    "errors = abs(predictions - test_labels)\n",
    "# Display the performance metrics\n",
    "print('Mean Absolute Error:', round(np.mean(errors), 2), 'degrees.')\n",
    "mape = np.mean(100 * (errors / test_labels))\n",
    "accuracy = 100 - mape\n",
    "print('Accuracy:', round(accuracy, 2), '%.')\n",
    "\n",
    "#Note:\n",
    "#This tells us that temperature and dew point are the two most important variables to regulate generated energy "
   ]
  },
  {
   "cell_type": "code",
   "execution_count": null,
   "metadata": {},
   "outputs": [],
   "source": []
  }
 ],
 "metadata": {
  "kernelspec": {
   "display_name": "Python 3",
   "language": "python",
   "name": "python3"
  },
  "language_info": {
   "codemirror_mode": {
    "name": "ipython",
    "version": 3
   },
   "file_extension": ".py",
   "mimetype": "text/x-python",
   "name": "python",
   "nbconvert_exporter": "python",
   "pygments_lexer": "ipython3",
   "version": "3.10.2"
  }
 },
 "nbformat": 4,
 "nbformat_minor": 2
}
